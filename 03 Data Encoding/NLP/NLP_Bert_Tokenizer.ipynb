{
 "cells": [
  {
   "cell_type": "markdown",
   "id": "4a9f749d-6e52-4179-860d-f063841fef8f",
   "metadata": {},
   "source": [
    "\n",
    "<img src=\"data:image/png;base64,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\" width=400 height=100/>\n",
    "\n",
    "___\n",
    "\n",
    "\n",
    "* <b>Author: Gaëtan Brison - ML Research Engineer - Institut Polytechnique de Paris</b>\n",
    "* <b>Publication Date: 09/17/2022</b>\n",
    "* <b>Goal: The goal of this script is to encode text using </b>\n",
    "\n",
    "___"
   ]
  },
  {
   "cell_type": "markdown",
   "id": "6ce62509-1a71-42a6-919b-23669d68b0a0",
   "metadata": {},
   "source": [
    "## I) - Import Library"
   ]
  },
  {
   "cell_type": "code",
   "execution_count": 1,
   "id": "aee12793-1ad5-4544-aab3-18a5c6155eb6",
   "metadata": {},
   "outputs": [],
   "source": [
    "import pandas as pd\n",
    "import numpy as np\n",
    "\n",
    "from transformers import AutoModel, BertTokenizerFast"
   ]
  },
  {
   "cell_type": "markdown",
   "id": "80fd2853-1ba9-4e2d-9d49-33ff076bb867",
   "metadata": {},
   "source": [
    "_DESCRIPTION = \"\"\"\\\n",
    "PUBHEALTH is a comprehensive dataset for explainable automated fact-checking of\n",
    "public health claims. Each instance in the PUBHEALTH dataset has an associated\n",
    "veracity label (true, false, unproven, mixture). Furthermore each instance in the\n",
    "dataset has an explanation text field. The explanation is a justification for which\n",
    "the claim has been assigned a particular veracity label.\n",
    "\n",
    "The dataset was created to explore fact-checking of difficult to verify claims i.e.,\n",
    "those which require expertise from outside of the journalistics domain, in this case\n",
    "biomedical and public health expertise.\n",
    "\n",
    "It was also created in response to the lack of fact-checking datasets which provide\n",
    "gold standard natural language explanations for verdicts/labels.\n",
    "\n",
    "NOTE: There are missing labels in the dataset and we have replaced them with -1.\n",
    "\"\"\"\n"
   ]
  },
  {
   "cell_type": "markdown",
   "id": "de13efe8-3a15-4344-9ff7-ef4048e17b99",
   "metadata": {},
   "source": [
    "https://huggingface.co/datasets/health_fact"
   ]
  },
  {
   "cell_type": "code",
   "execution_count": 3,
   "id": "da47c520-48cd-4984-afde-8c90f3d900c0",
   "metadata": {},
   "outputs": [],
   "source": [
    "pub_health_train = pd.read_csv(\"train.tsv\", sep='\\t')"
   ]
  },
  {
   "cell_type": "code",
   "execution_count": 4,
   "id": "50c794d0-c1bb-4036-821b-774370c53b40",
   "metadata": {},
   "outputs": [
    {
     "data": {
      "text/html": [
       "<div>\n",
       "<style scoped>\n",
       "    .dataframe tbody tr th:only-of-type {\n",
       "        vertical-align: middle;\n",
       "    }\n",
       "\n",
       "    .dataframe tbody tr th {\n",
       "        vertical-align: top;\n",
       "    }\n",
       "\n",
       "    .dataframe thead th {\n",
       "        text-align: right;\n",
       "    }\n",
       "</style>\n",
       "<table border=\"1\" class=\"dataframe\">\n",
       "  <thead>\n",
       "    <tr style=\"text-align: right;\">\n",
       "      <th></th>\n",
       "      <th>main_text</th>\n",
       "      <th>label</th>\n",
       "    </tr>\n",
       "  </thead>\n",
       "  <tbody>\n",
       "    <tr>\n",
       "      <th>0</th>\n",
       "      <td>\"Hillary Clinton is in the political crosshair...</td>\n",
       "      <td>false</td>\n",
       "    </tr>\n",
       "    <tr>\n",
       "      <th>1</th>\n",
       "      <td>While the financial costs of screening mammogr...</td>\n",
       "      <td>mixture</td>\n",
       "    </tr>\n",
       "    <tr>\n",
       "      <th>2</th>\n",
       "      <td>The news release quotes lead researcher Robert...</td>\n",
       "      <td>mixture</td>\n",
       "    </tr>\n",
       "    <tr>\n",
       "      <th>3</th>\n",
       "      <td>The story does discuss costs, but the framing ...</td>\n",
       "      <td>true</td>\n",
       "    </tr>\n",
       "  </tbody>\n",
       "</table>\n",
       "</div>"
      ],
      "text/plain": [
       "                                           main_text    label\n",
       "0  \"Hillary Clinton is in the political crosshair...    false\n",
       "1  While the financial costs of screening mammogr...  mixture\n",
       "2  The news release quotes lead researcher Robert...  mixture\n",
       "3  The story does discuss costs, but the framing ...     true"
      ]
     },
     "execution_count": 4,
     "metadata": {},
     "output_type": "execute_result"
    }
   ],
   "source": [
    "pub_health_train = pub_health_train[pub_health_train['label'] != 'snopes']\n",
    "pub_health_train = pub_health_train[['main_text','label']]\n",
    "pub_health_train = pub_health_train.dropna(subset=['main_text', 'label'])\n",
    "\n",
    "pub_health_train.head()"
   ]
  },
  {
   "cell_type": "code",
   "execution_count": 18,
   "id": "e0052652-a3fb-4bce-8377-a3278dd31806",
   "metadata": {},
   "outputs": [],
   "source": [
    "def tokenizer_bert(max_length):\n",
    "    \"\"\" implement a tokenize function using the bert-base-uncased approach of HuggingFace\n",
    "    \n",
    "    Parameters:\n",
    "    ----\n",
    "    max_length: int\n",
    "    number of tokens the string will be converted to \n",
    "    \n",
    "    Return:\n",
    "    ----\n",
    "    \n",
    "    tokens_train: transformers.tokenization_utils_base.BatchEncoding\n",
    "    dictionary with input_ids , attention_masks with padding\n",
    "    \n",
    "    \"\"\"\n",
    "    \n",
    "    tokenizer = BertTokenizerFast.from_pretrained('bert-base-uncased')\n",
    "\n",
    "    tokens_train = tokenizer.batch_encode_plus(\n",
    "          pub_health_train[\"main_text\"].tolist(),\n",
    "          max_length = max_length,\n",
    "          pad_to_max_length=True,\n",
    "          truncation=True,\n",
    "          return_token_type_ids=False\n",
    "      )\n",
    "    return tokens_train"
   ]
  },
  {
   "cell_type": "code",
   "execution_count": 13,
   "id": "bf1e4d05-bc29-4b87-a620-53a870049701",
   "metadata": {},
   "outputs": [
    {
     "data": {
      "text/plain": [
       "0    \"Hillary Clinton is in the political crosshair...\n",
       "1    While the financial costs of screening mammogr...\n",
       "2    The news release quotes lead researcher Robert...\n",
       "3    The story does discuss costs, but the framing ...\n",
       "Name: main_text, dtype: object"
      ]
     },
     "execution_count": 13,
     "metadata": {},
     "output_type": "execute_result"
    }
   ],
   "source": [
    "pub_health_train[\"main_text\"]"
   ]
  },
  {
   "cell_type": "code",
   "execution_count": 19,
   "id": "255283fd-8014-418b-837a-95e3483cce37",
   "metadata": {},
   "outputs": [
    {
     "data": {
      "text/plain": [
       "{'input_ids': [[101, 1000, 18520, 7207, 2003, 1999, 1996, 2576, 2892, 26227, 2015, 2004, 1996, 3166, 1997, 1037, 2047, 2338, 2035, 24746, 2015, 24156, 3361, 7208, 2090, 2014, 2270, 1998, 3167, 2166, 1012, 2012, 3277, 1999, 4603, 3166, 2848, 8040, 2232, 19845, 6290, 1521, 1055, 16875, 2338, 7207, 5356, 2024, 11440, 2013, 3097, 6867, 2000, 1996, 7207, 3192, 2076, 1996, 2176, 2086, 2016, 2366, 2004, 3187, 1997, 2110, 1012, 2577, 15963, 7361, 28262, 2109, 2019, 4357, 2007, 8040, 2232, 19845, 6290, 2006, 5925, 2023, 2733, 2000, 2391, 2041, 2054, 2060, 2512, 26053, 8845, 2031, 2179, 1024, 2045, 2003, 2053, 1000, 1000, 9422, 3282, 1000, 1000, 4760, 2008, 11440, 2000, 1996, 3192, 5105, 2014, 3097, 3343, 6567, 1012, 2145, 1010, 2280, 3951, 2160, 5882, 25597, 18353, 16523, 7033, 2758, 1996, 11440, 2024, 1000, 1000, 4415, 6206, 1000, 1000, 2104, 2976, 2375, 1012, 1999, 2010, 3193, 1010, 1037, 13445, 2011, 1037, 3097, 2231, 2000, 1996, 7207, 3192, 2096, 7207, 2001, 3187, 1997, 2110, 2003, 1996, 2168, 2004, 2769, 2741, 3495, 2000, 2014, 1010, 2002, 2056, 1010, 2130, 2295, 2016, 2106, 2025, 3693, 1996, 3192, 1521, 1055, 2604, 2127, 2016, 2187, 2014, 2695, 1012, 1000, 1000, 1996, 4552, 1997, 1996, 2142, 2163, 2758, 2017, 3685, 2202, 2769, 2013, 3097, 6867, 2302, 13216, 6656, 1997, 1996, 3519, 1012, 2027, 2626, 2008, 1999, 2045, 2138, 2027, 2354, 1996, 5473, 1997, 13593, 2075, 2256, 2291, 2011, 3097, 2769, 2003, 8216, 1010, 1000, 1000, 18353, 16523, 7033, 2056, 1012, 1000, 1000, 2017, 2018, 1037, 3564, 3187, 1997, 2110, 3005, 3129, 25796, 3445, 2010, 4613, 9883, 1010, 2017, 2031, 1037, 2878, 2186, 1997, 14981, 2006, 1996, 2813, 2085, 2073, 2111, 2435, 8817, 1997, 6363, 1517, 2821, 1010, 2011, 1996, 2126, 1010, 2027, 4148, 2000, 2131, 2579, 2729, 1997, 2011, 1996, 2110, 2533, 1012, 1000, 1000, 2002, 2506, 1010, 1000, 1000, 2026, 2391, 2003, 2027, 2165, 2769, 2013, 3097, 6867, 2096, 2016, 2001, 3187, 1997, 2110, 1012, 2008, 2003, 4415, 6206, 1012, 1000, 1000, 26136, 23194, 7011, 6593, 2359, 2000, 2113, 2065, 1037, 4735, 2553, 2114, 7207, 2003, 2008, 2330, 1998, 3844, 1012, 2003, 2054, 3047, 1000, 1000, 4415, 6206, 1000, 1000, 1029, 1037, 14056, 2005, 1996, 7207, 3192, 5121, 18335, 1010, 4214, 18353, 16523, 7033, 1521, 1055, 19238, 1000, 1000, 1037, 14040, 7971, 11679, 1000, 1000, 2138, 7207, 2001, 2025, 2112, 1997, 2014, 3129, 1521, 1055, 3192, 2096, 3529, 2004, 1037, 5205, 2030, 3187, 1997, 2110, 1012, 2057, 2106, 2025, 2963, 2013, 18353, 16523, 7033, 2011, 2256, 15117, 1012, 3192, 24078, 2280, 2343, 7207, 2318, 1996, 2520, 1046, 1012, 7207, 3192, 1999, 2541, 1010, 1996, 2095, 2044, 18520, 7207, 2180, 2014, 2034, 2744, 2004, 1037, 2047, 2259, 5205, 1012, 1996, 3192, 2573, 2007, 2512, 1011, 10605, 4411, 1010, 1996, 2797, 4753, 1998, 6867, 2105, 1996, 2088, 2006, 2740, 1010, 3424, 1011, 5635, 1010, 9820, 1013, 8387, 1998, 4785, 2689, 11107, 1012, 14056, 7010, 21750, 17043, 2056, 2009, 1521, 1055, 9608, 2005, 1996, 3192, 2000, 5138, 2769, 2013, 3097, 6867, 2138, 1997, 1996, 3795, 9531, 1997, 2049, 3454, 1010, 1998, 1996, 11440, 2024, 2788, 1999, 1996, 2433, 1997, 21727, 8624, 2005, 3563, 102], [101, 2096, 1996, 3361, 5366, 1997, 11326, 5003, 7382, 9888, 1004, 6270, 1011, 3893, 17722, 1004, 16012, 4523, 3111, 2020, 2025, 2443, 1999, 1996, 2817, 1010, 8141, 2052, 5770, 2013, 2108, 6966, 2008, 9131, 5003, 7382, 9888, 1004, 16012, 4523, 3111, 3623, 5776, 3361, 5366, 1012, 2023, 3720, 5260, 2007, 7070, 2592, 2005, 2035, 2308, 2058, 2287, 2871, 2011, 5517, 1523, 2893, 11326, 5003, 7382, 8649, 6444, 2015, 2296, 2048, 2086, 2612, 1997, 6604, 13416, 1996, 3382, 1997, 1037, 6270, 8598, 1010, 1037, 2047, 2817, 3065, 1012, 1524, 6854, 1996, 3213, 2987, 1521, 1056, 24110, 27351, 2030, 9603, 23613, 2006, 2008, 7312, 1012, 2612, 1010, 1996, 3213, 2101, 7679, 2006, 2129, 2308, 14996, 11326, 5003, 7382, 9888, 5807, 1521, 1056, 2022, 11480, 2065, 2027, 3325, 1037, 9131, 2138, 2058, 2431, 1997, 2308, 2040, 2031, 11326, 5003, 7382, 8649, 6444, 2015, 2005, 2184, 2086, 2097, 2022, 7383, 1012, 8141, 2052, 2031, 2042, 2488, 2366, 2065, 1996, 3213, 2018, 13155, 1996, 3278, 7312, 1999, 2119, 9131, 5003, 7382, 8649, 6444, 2015, 1004, 6270, 1011, 3893, 16012, 4523, 3111, 1999, 2308, 2040, 2024, 12238, 2296, 2048, 2086, 2738, 2084, 6604, 1012, 2112, 1997, 1996, 5719, 6704, 2058, 11326, 5003, 7382, 9888, 7679, 2006, 3296, 6431, 20313, 11326, 1012, 2138, 2023, 2817, 3662, 1037, 3278, 7312, 1999, 1996, 7017, 1997, 2216, 7383, 1004, 11303, 16012, 4523, 3111, 2426, 2308, 2040, 2024, 12238, 2296, 2060, 2095, 1010, 2007, 2053, 7778, 2135, 3278, 3623, 1999, 2397, 1011, 2754, 11616, 1997, 7388, 4456, 1010, 1996, 3720, 2323, 2031, 13155, 2216, 2590, 9556, 1012, 1996, 3538, 2163, 2008, 1996, 6950, 3264, 2008, 1523, 1529, 6270, 3893, 17722, 2089, 3426, 4297, 2239, 8159, 13684, 1004, 10089, 1998, 16012, 4523, 3111, 2064, 3426, 3255, 1998, 11228, 4892, 1012, 1524, 2023, 3720, 11896, 2000, 2421, 2195, 2590, 8866, 2055, 1996, 2817, 1012, 1015, 1007, 2023, 2003, 1037, 17464, 2522, 27794, 2817, 1997, 2308, 12238, 2090, 2807, 1011, 2294, 1012, 1016, 1007, 2087, 1997, 1996, 5003, 7382, 8649, 6444, 2015, 2020, 2143, 2738, 2084, 3617, 1012, 1017, 1007, 2261, 2308, 9601, 11326, 2005, 1996, 2972, 2184, 2095, 2558, 1012, 1018, 1007, 11326, 5003, 7382, 9888, 9131, 6165, 2024, 5105, 2011, 1996, 8066, 1997, 1996, 2557, 18738, 2040, 3191, 1996, 5003, 7382, 8649, 6444, 2015, 1012, 2045, 2001, 2053, 4295, 12256, 4590, 2075, 1012, 2053, 2981, 8519, 2020, 9339, 1012, 1996, 2466, 2106, 2019, 11706, 3105, 13599, 1516, 2012, 1037, 2200, 2152, 2504, 1516, 3296, 11326, 6431, 20313, 11326, 1012, 11326, 5003, 7382, 9888, 2003, 4235, 2800, 2802, 1996, 2142, 2163, 1012, 1996, 2817, 2106, 2025, 11628, 1037, 2047, 7709, 1012, 2045, 1521, 1055, 2053, 3350, 2008, 1996, 2466, 13538, 9578, 2006, 1037, 2739, 2713, 1012, 102, 0, 0, 0, 0, 0, 0, 0, 0, 0, 0, 0, 0, 0, 0, 0, 0, 0, 0, 0, 0, 0, 0, 0, 0, 0, 0, 0, 0, 0, 0, 0, 0, 0, 0, 0, 0, 0, 0, 0, 0, 0, 0, 0, 0, 0, 0, 0, 0, 0, 0, 0, 0, 0, 0, 0, 0, 0, 0, 0, 0, 0, 0, 0, 0, 0, 0, 0, 0], [101, 1996, 2739, 2713, 16614, 2599, 10753, 2728, 19734, 2121, 1010, 9108, 1010, 3038, 3025, 2913, 2031, 3491, 24829, 5339, 2000, 2022, 1523, 1037, 3465, 1011, 4621, 1998, 5514, 4522, 2000, 10047, 5339, 1524, 2021, 2515, 2025, 3073, 2151, 6987, 2004, 2000, 1996, 3563, 5366, 1997, 2593, 7709, 1012, 1999, 2755, 1010, 1996, 4489, 2003, 6937, 1012, 1037, 2297, 2817, 1999, 1996, 3485, 1997, 6612, 2006, 19824, 8920, 27615, 4447, 2951, 3662, 1037, 2812, 3949, 3465, 1997, 1002, 2410, 1010, 4185, 2629, 2005, 24829, 5339, 6431, 1002, 2538, 1010, 6185, 2509, 2005, 10047, 5339, 1012, 1998, 1037, 2262, 2817, 1999, 1996, 3485, 1997, 2006, 19824, 3218, 5531, 2008, 5034, 19279, 2038, 1523, 2307, 4022, 3465, 10995, 1524, 2005, 1996, 2740, 2729, 2291, 1010, 2007, 2019, 2779, 3465, 1997, 1002, 2570, 1010, 15017, 6431, 1002, 3486, 1010, 4724, 2487, 2005, 10047, 5339, 1012, 2028, 2071, 2036, 5136, 1996, 3465, 1997, 2217, 3896, 2004, 2092, 2004, 2342, 2005, 2925, 13441, 1012, 1996, 2739, 2713, 3957, 1037, 2843, 1997, 2951, 1012, 2009, 2163, 2008, 5989, 3867, 1997, 5022, 2020, 2489, 2013, 25086, 4456, 14967, 2044, 2274, 2086, 1010, 17003, 1037, 3439, 2491, 1997, 6109, 3867, 1012, 2009, 2036, 2758, 2008, 8491, 2084, 1016, 3867, 1997, 5022, 5281, 5729, 11704, 6447, 1999, 2037, 3806, 13181, 18447, 19126, 1010, 15124, 1010, 1998, 24471, 3981, 2854, 3001, 1010, 1998, 2053, 5022, 2988, 2166, 1011, 8701, 2030, 10611, 22423, 1012, 2174, 1010, 1996, 2739, 2713, 2515, 2025, 3535, 2000, 2360, 2129, 2122, 6165, 12826, 2007, 2060, 3949, 7047, 1010, 2029, 2052, 2393, 8141, 2404, 1996, 2951, 1999, 7339, 1012, 2045, 2024, 2590, 5430, 11149, 2187, 2041, 1999, 1996, 6412, 1997, 9556, 2008, 2024, 6936, 2104, 1996, 3350, 19229, 1012, 1996, 2739, 2713, 2163, 2008, 2090, 2431, 1998, 2048, 1011, 12263, 1997, 5022, 5281, 2659, 1010, 1523, 2788, 5741, 1524, 6165, 1997, 11704, 6447, 1012, 2009, 2036, 3964, 2008, 1523, 8491, 2084, 1016, 3867, 1997, 5022, 5281, 5729, 11704, 6447, 1999, 2037, 3806, 13181, 18447, 19126, 1010, 15124, 1010, 1998, 24471, 3981, 2854, 3001, 1010, 1998, 2053, 5022, 2988, 2166, 1011, 8701, 2030, 10611, 22423, 1012, 1524, 1037, 2261, 2062, 4751, 2182, 2052, 2022, 14044, 1012, 2005, 2742, 1010, 2129, 2116, 5022, 5281, 1037, 6689, 1999, 24471, 3981, 2854, 2030, 4424, 3853, 1010, 1998, 2005, 2054, 2558, 1997, 2051, 1029, 1998, 2054, 2024, 2060, 4022, 10831, 1997, 8249, 7242, 1029, 1996, 2613, 3160, 2003, 2129, 2079, 2122, 7386, 2015, 12826, 2000, 2060, 13441, 1029, 2008, 2001, 2025, 14155, 1999, 2023, 2817, 1012, 1996, 2739, 2713, 3957, 2070, 4751, 2000, 2393, 8141, 3305, 2129, 1996, 2817, 2001, 4146, 1012, 2174, 1010, 2009, 19046, 2015, 2000, 2421, 2195, 3145, 2685, 1012, 2034, 1010, 1996, 5022, 8302, 2024, 2013, 1037, 2200, 2659, 3891, 2313, 1999, 3408, 1997, 9854, 5770, 1012, 1996, 4861, 2008, 2122, 3463, 12826, 27597, 2000, 3439, 7711, 2012, 1019, 2086, 22182, 1996, 2391, 2008, 1996, 3891, 1997, 2331, 2005, 2023, 5776, 2313, 3475, 1521, 1056, 2464, 2127, 2184, 1011, 2321, 2086, 2012, 1996, 5700, 1012, 2117, 1010, 2302, 1037, 9530, 18532, 17822, 17191, 7831, 2177, 1010, 2009, 2323, 2022, 102], [101, 1996, 2466, 2515, 6848, 5366, 1010, 2021, 1996, 20241, 2003, 18636, 1012, 1996, 2466, 1010, 2241, 2006, 1037, 4512, 2007, 2028, 3120, 1010, 1996, 2817, 1521, 1055, 2599, 14064, 1010, 2758, 1010, 1523, 2009, 1521, 1055, 3697, 2012, 2023, 2391, 2000, 16014, 5366, 1012, 2174, 1010, 2002, 24273, 5366, 2097, 2025, 3921, 2216, 2005, 10003, 3351, 1010, 1996, 3976, 2100, 3949, 17404, 2005, 25086, 4456, 4844, 2011, 1996, 17473, 1999, 2230, 1012, 10003, 3351, 5366, 1002, 6109, 1010, 2199, 2005, 1996, 2028, 1011, 3204, 1010, 2093, 1011, 13004, 3949, 1012, 27615, 4472, 2009, 1012, 1524, 2023, 4136, 8141, 2008, 1010, 2053, 3043, 2054, 1996, 4319, 5366, 1010, 27615, 3497, 2097, 3104, 2009, 1012, 2057, 9120, 1996, 3947, 2000, 3288, 3465, 2592, 2046, 1996, 2466, 1010, 2021, 2023, 2828, 1997, 2592, 2003, 22369, 1012, 1996, 2466, 2515, 4863, 2008, 2069, 2028, 5776, 3464, 4456, 2489, 2206, 1996, 2817, 1012, 2009, 2059, 4751, 2129, 2005, 2087, 1997, 1996, 5022, 4456, 2506, 2000, 5082, 2044, 1016, 2706, 1012, 2009, 2758, 2008, 1996, 3991, 3452, 7691, 1999, 2119, 1996, 7388, 4456, 1998, 1051, 10755, 2937, 4456, 5022, 2001, 2625, 2084, 2385, 2706, 1012, 2021, 1996, 2466, 2003, 10366, 1999, 2107, 1037, 2126, 2000, 12944, 1996, 2028, 9280, 3893, 9560, 1997, 1996, 2817, 1998, 2000, 2091, 13068, 1996, 4997, 1012, 2057, 3191, 2062, 10076, 2055, 1996, 2028, 5776, 2040, 2089, 2031, 5838, 2092, 2000, 1996, 17404, 2084, 2057, 2079, 2055, 1996, 2423, 2060, 5022, 2040, 2106, 2025, 1012, 1996, 2466, 9704, 2217, 3896, 1999, 1037, 23045, 2126, 1012, 10892, 1010, 1996, 2466, 3640, 8141, 2007, 2172, 1997, 1996, 2592, 2027, 2052, 2342, 2000, 14358, 1996, 16406, 1997, 1996, 2817, 1010, 2021, 2009, 3310, 2041, 1999, 9017, 1998, 4109, 1012, 2005, 2742, 1010, 2057, 2069, 2424, 2041, 2379, 1996, 2203, 1997, 1996, 2466, 2008, 1523, 1996, 2450, 1010, 2040, 3464, 4295, 1011, 2489, 1010, 2018, 1037, 3025, 3949, 2007, 1037, 2367, 3949, 17404, 1012, 1520, 2008, 2453, 2031, 3539, 2094, 2014, 11311, 2291, 1010, 1521, 19739, 25105, 28699, 18969, 1012, 2016, 2036, 2018, 2069, 2028, 6939, 2078, 1997, 27144, 1010, 3383, 4363, 2014, 11311, 2291, 6428, 1012, 1524, 2023, 23942, 2172, 4797, 2006, 1996, 2817, 1521, 1055, 2640, 1010, 1998, 2009, 2052, 2031, 2042, 3835, 2000, 2031, 2464, 2070, 2648, 11532, 2716, 1999, 2000, 2593, 6848, 2216, 2640, 3471, 2030, 2000, 9862, 1996, 2466, 10462, 1012, 2153, 1010, 1996, 2466, 17210, 2152, 6017, 2005, 2108, 2200, 3563, 1999, 1996, 2599, 1998, 2802, 1996, 2466, 1012, 2009, 2758, 1010, 2008, 1996, 17404, 2003, 1523, 2005, 7388, 1998, 1051, 10755, 2937, 4456, 2008, 2038, 3659, 2000, 2060, 3033, 1997, 1996, 2303, 1524, 1999, 1996, 2599, 1998, 2101, 4751, 1996, 3327, 6214, 1997, 1996, 2817, 2522, 27794, 1012, 2009, 2758, 1010, 1523, 1996, 5022, 2018, 2525, 17215, 1037, 3528, 1997, 13441, 2021, 1996, 4456, 2001, 27673, 1012, 3174, 2028, 1997, 1996, 2656, 2018, 17215, 2093, 2030, 2062, 27144, 6939, 3619, 1012, 1524, 2023, 2003, 1996, 7117, 1997, 1996, 2466, 1521, 1055, 2364, 2460, 18935, 1012, 2471, 2035, 1997, 1996, 2592, 1999, 1996, 2466, 3310, 2013, 2028, 3120, 1024, 2852, 102]], 'attention_mask': [[1, 1, 1, 1, 1, 1, 1, 1, 1, 1, 1, 1, 1, 1, 1, 1, 1, 1, 1, 1, 1, 1, 1, 1, 1, 1, 1, 1, 1, 1, 1, 1, 1, 1, 1, 1, 1, 1, 1, 1, 1, 1, 1, 1, 1, 1, 1, 1, 1, 1, 1, 1, 1, 1, 1, 1, 1, 1, 1, 1, 1, 1, 1, 1, 1, 1, 1, 1, 1, 1, 1, 1, 1, 1, 1, 1, 1, 1, 1, 1, 1, 1, 1, 1, 1, 1, 1, 1, 1, 1, 1, 1, 1, 1, 1, 1, 1, 1, 1, 1, 1, 1, 1, 1, 1, 1, 1, 1, 1, 1, 1, 1, 1, 1, 1, 1, 1, 1, 1, 1, 1, 1, 1, 1, 1, 1, 1, 1, 1, 1, 1, 1, 1, 1, 1, 1, 1, 1, 1, 1, 1, 1, 1, 1, 1, 1, 1, 1, 1, 1, 1, 1, 1, 1, 1, 1, 1, 1, 1, 1, 1, 1, 1, 1, 1, 1, 1, 1, 1, 1, 1, 1, 1, 1, 1, 1, 1, 1, 1, 1, 1, 1, 1, 1, 1, 1, 1, 1, 1, 1, 1, 1, 1, 1, 1, 1, 1, 1, 1, 1, 1, 1, 1, 1, 1, 1, 1, 1, 1, 1, 1, 1, 1, 1, 1, 1, 1, 1, 1, 1, 1, 1, 1, 1, 1, 1, 1, 1, 1, 1, 1, 1, 1, 1, 1, 1, 1, 1, 1, 1, 1, 1, 1, 1, 1, 1, 1, 1, 1, 1, 1, 1, 1, 1, 1, 1, 1, 1, 1, 1, 1, 1, 1, 1, 1, 1, 1, 1, 1, 1, 1, 1, 1, 1, 1, 1, 1, 1, 1, 1, 1, 1, 1, 1, 1, 1, 1, 1, 1, 1, 1, 1, 1, 1, 1, 1, 1, 1, 1, 1, 1, 1, 1, 1, 1, 1, 1, 1, 1, 1, 1, 1, 1, 1, 1, 1, 1, 1, 1, 1, 1, 1, 1, 1, 1, 1, 1, 1, 1, 1, 1, 1, 1, 1, 1, 1, 1, 1, 1, 1, 1, 1, 1, 1, 1, 1, 1, 1, 1, 1, 1, 1, 1, 1, 1, 1, 1, 1, 1, 1, 1, 1, 1, 1, 1, 1, 1, 1, 1, 1, 1, 1, 1, 1, 1, 1, 1, 1, 1, 1, 1, 1, 1, 1, 1, 1, 1, 1, 1, 1, 1, 1, 1, 1, 1, 1, 1, 1, 1, 1, 1, 1, 1, 1, 1, 1, 1, 1, 1, 1, 1, 1, 1, 1, 1, 1, 1, 1, 1, 1, 1, 1, 1, 1, 1, 1, 1, 1, 1, 1, 1, 1, 1, 1, 1, 1, 1, 1, 1, 1, 1, 1, 1, 1, 1, 1, 1, 1, 1, 1, 1, 1, 1, 1, 1, 1, 1, 1, 1, 1, 1, 1, 1, 1, 1, 1, 1, 1, 1, 1, 1, 1, 1, 1, 1, 1, 1, 1, 1, 1, 1, 1, 1, 1, 1, 1, 1, 1, 1, 1, 1, 1, 1, 1, 1, 1, 1, 1, 1, 1, 1, 1, 1, 1, 1, 1, 1, 1, 1, 1, 1, 1], [1, 1, 1, 1, 1, 1, 1, 1, 1, 1, 1, 1, 1, 1, 1, 1, 1, 1, 1, 1, 1, 1, 1, 1, 1, 1, 1, 1, 1, 1, 1, 1, 1, 1, 1, 1, 1, 1, 1, 1, 1, 1, 1, 1, 1, 1, 1, 1, 1, 1, 1, 1, 1, 1, 1, 1, 1, 1, 1, 1, 1, 1, 1, 1, 1, 1, 1, 1, 1, 1, 1, 1, 1, 1, 1, 1, 1, 1, 1, 1, 1, 1, 1, 1, 1, 1, 1, 1, 1, 1, 1, 1, 1, 1, 1, 1, 1, 1, 1, 1, 1, 1, 1, 1, 1, 1, 1, 1, 1, 1, 1, 1, 1, 1, 1, 1, 1, 1, 1, 1, 1, 1, 1, 1, 1, 1, 1, 1, 1, 1, 1, 1, 1, 1, 1, 1, 1, 1, 1, 1, 1, 1, 1, 1, 1, 1, 1, 1, 1, 1, 1, 1, 1, 1, 1, 1, 1, 1, 1, 1, 1, 1, 1, 1, 1, 1, 1, 1, 1, 1, 1, 1, 1, 1, 1, 1, 1, 1, 1, 1, 1, 1, 1, 1, 1, 1, 1, 1, 1, 1, 1, 1, 1, 1, 1, 1, 1, 1, 1, 1, 1, 1, 1, 1, 1, 1, 1, 1, 1, 1, 1, 1, 1, 1, 1, 1, 1, 1, 1, 1, 1, 1, 1, 1, 1, 1, 1, 1, 1, 1, 1, 1, 1, 1, 1, 1, 1, 1, 1, 1, 1, 1, 1, 1, 1, 1, 1, 1, 1, 1, 1, 1, 1, 1, 1, 1, 1, 1, 1, 1, 1, 1, 1, 1, 1, 1, 1, 1, 1, 1, 1, 1, 1, 1, 1, 1, 1, 1, 1, 1, 1, 1, 1, 1, 1, 1, 1, 1, 1, 1, 1, 1, 1, 1, 1, 1, 1, 1, 1, 1, 1, 1, 1, 1, 1, 1, 1, 1, 1, 1, 1, 1, 1, 1, 1, 1, 1, 1, 1, 1, 1, 1, 1, 1, 1, 1, 1, 1, 1, 1, 1, 1, 1, 1, 1, 1, 1, 1, 1, 1, 1, 1, 1, 1, 1, 1, 1, 1, 1, 1, 1, 1, 1, 1, 1, 1, 1, 1, 1, 1, 1, 1, 1, 1, 1, 1, 1, 1, 1, 1, 1, 1, 1, 1, 1, 1, 1, 1, 1, 1, 1, 1, 1, 1, 1, 1, 1, 1, 1, 1, 1, 1, 1, 1, 1, 1, 1, 1, 1, 1, 1, 1, 1, 1, 1, 1, 1, 1, 1, 1, 1, 1, 1, 1, 1, 1, 1, 1, 1, 1, 1, 1, 1, 1, 1, 1, 1, 1, 1, 1, 1, 1, 1, 1, 1, 1, 1, 1, 1, 1, 1, 1, 1, 1, 0, 0, 0, 0, 0, 0, 0, 0, 0, 0, 0, 0, 0, 0, 0, 0, 0, 0, 0, 0, 0, 0, 0, 0, 0, 0, 0, 0, 0, 0, 0, 0, 0, 0, 0, 0, 0, 0, 0, 0, 0, 0, 0, 0, 0, 0, 0, 0, 0, 0, 0, 0, 0, 0, 0, 0, 0, 0, 0, 0, 0, 0, 0, 0, 0, 0, 0, 0], [1, 1, 1, 1, 1, 1, 1, 1, 1, 1, 1, 1, 1, 1, 1, 1, 1, 1, 1, 1, 1, 1, 1, 1, 1, 1, 1, 1, 1, 1, 1, 1, 1, 1, 1, 1, 1, 1, 1, 1, 1, 1, 1, 1, 1, 1, 1, 1, 1, 1, 1, 1, 1, 1, 1, 1, 1, 1, 1, 1, 1, 1, 1, 1, 1, 1, 1, 1, 1, 1, 1, 1, 1, 1, 1, 1, 1, 1, 1, 1, 1, 1, 1, 1, 1, 1, 1, 1, 1, 1, 1, 1, 1, 1, 1, 1, 1, 1, 1, 1, 1, 1, 1, 1, 1, 1, 1, 1, 1, 1, 1, 1, 1, 1, 1, 1, 1, 1, 1, 1, 1, 1, 1, 1, 1, 1, 1, 1, 1, 1, 1, 1, 1, 1, 1, 1, 1, 1, 1, 1, 1, 1, 1, 1, 1, 1, 1, 1, 1, 1, 1, 1, 1, 1, 1, 1, 1, 1, 1, 1, 1, 1, 1, 1, 1, 1, 1, 1, 1, 1, 1, 1, 1, 1, 1, 1, 1, 1, 1, 1, 1, 1, 1, 1, 1, 1, 1, 1, 1, 1, 1, 1, 1, 1, 1, 1, 1, 1, 1, 1, 1, 1, 1, 1, 1, 1, 1, 1, 1, 1, 1, 1, 1, 1, 1, 1, 1, 1, 1, 1, 1, 1, 1, 1, 1, 1, 1, 1, 1, 1, 1, 1, 1, 1, 1, 1, 1, 1, 1, 1, 1, 1, 1, 1, 1, 1, 1, 1, 1, 1, 1, 1, 1, 1, 1, 1, 1, 1, 1, 1, 1, 1, 1, 1, 1, 1, 1, 1, 1, 1, 1, 1, 1, 1, 1, 1, 1, 1, 1, 1, 1, 1, 1, 1, 1, 1, 1, 1, 1, 1, 1, 1, 1, 1, 1, 1, 1, 1, 1, 1, 1, 1, 1, 1, 1, 1, 1, 1, 1, 1, 1, 1, 1, 1, 1, 1, 1, 1, 1, 1, 1, 1, 1, 1, 1, 1, 1, 1, 1, 1, 1, 1, 1, 1, 1, 1, 1, 1, 1, 1, 1, 1, 1, 1, 1, 1, 1, 1, 1, 1, 1, 1, 1, 1, 1, 1, 1, 1, 1, 1, 1, 1, 1, 1, 1, 1, 1, 1, 1, 1, 1, 1, 1, 1, 1, 1, 1, 1, 1, 1, 1, 1, 1, 1, 1, 1, 1, 1, 1, 1, 1, 1, 1, 1, 1, 1, 1, 1, 1, 1, 1, 1, 1, 1, 1, 1, 1, 1, 1, 1, 1, 1, 1, 1, 1, 1, 1, 1, 1, 1, 1, 1, 1, 1, 1, 1, 1, 1, 1, 1, 1, 1, 1, 1, 1, 1, 1, 1, 1, 1, 1, 1, 1, 1, 1, 1, 1, 1, 1, 1, 1, 1, 1, 1, 1, 1, 1, 1, 1, 1, 1, 1, 1, 1, 1, 1, 1, 1, 1, 1, 1, 1, 1, 1, 1, 1, 1, 1, 1, 1, 1, 1, 1, 1, 1, 1, 1, 1, 1, 1, 1, 1, 1, 1, 1, 1, 1, 1, 1, 1, 1, 1, 1, 1, 1, 1, 1, 1, 1, 1, 1, 1], [1, 1, 1, 1, 1, 1, 1, 1, 1, 1, 1, 1, 1, 1, 1, 1, 1, 1, 1, 1, 1, 1, 1, 1, 1, 1, 1, 1, 1, 1, 1, 1, 1, 1, 1, 1, 1, 1, 1, 1, 1, 1, 1, 1, 1, 1, 1, 1, 1, 1, 1, 1, 1, 1, 1, 1, 1, 1, 1, 1, 1, 1, 1, 1, 1, 1, 1, 1, 1, 1, 1, 1, 1, 1, 1, 1, 1, 1, 1, 1, 1, 1, 1, 1, 1, 1, 1, 1, 1, 1, 1, 1, 1, 1, 1, 1, 1, 1, 1, 1, 1, 1, 1, 1, 1, 1, 1, 1, 1, 1, 1, 1, 1, 1, 1, 1, 1, 1, 1, 1, 1, 1, 1, 1, 1, 1, 1, 1, 1, 1, 1, 1, 1, 1, 1, 1, 1, 1, 1, 1, 1, 1, 1, 1, 1, 1, 1, 1, 1, 1, 1, 1, 1, 1, 1, 1, 1, 1, 1, 1, 1, 1, 1, 1, 1, 1, 1, 1, 1, 1, 1, 1, 1, 1, 1, 1, 1, 1, 1, 1, 1, 1, 1, 1, 1, 1, 1, 1, 1, 1, 1, 1, 1, 1, 1, 1, 1, 1, 1, 1, 1, 1, 1, 1, 1, 1, 1, 1, 1, 1, 1, 1, 1, 1, 1, 1, 1, 1, 1, 1, 1, 1, 1, 1, 1, 1, 1, 1, 1, 1, 1, 1, 1, 1, 1, 1, 1, 1, 1, 1, 1, 1, 1, 1, 1, 1, 1, 1, 1, 1, 1, 1, 1, 1, 1, 1, 1, 1, 1, 1, 1, 1, 1, 1, 1, 1, 1, 1, 1, 1, 1, 1, 1, 1, 1, 1, 1, 1, 1, 1, 1, 1, 1, 1, 1, 1, 1, 1, 1, 1, 1, 1, 1, 1, 1, 1, 1, 1, 1, 1, 1, 1, 1, 1, 1, 1, 1, 1, 1, 1, 1, 1, 1, 1, 1, 1, 1, 1, 1, 1, 1, 1, 1, 1, 1, 1, 1, 1, 1, 1, 1, 1, 1, 1, 1, 1, 1, 1, 1, 1, 1, 1, 1, 1, 1, 1, 1, 1, 1, 1, 1, 1, 1, 1, 1, 1, 1, 1, 1, 1, 1, 1, 1, 1, 1, 1, 1, 1, 1, 1, 1, 1, 1, 1, 1, 1, 1, 1, 1, 1, 1, 1, 1, 1, 1, 1, 1, 1, 1, 1, 1, 1, 1, 1, 1, 1, 1, 1, 1, 1, 1, 1, 1, 1, 1, 1, 1, 1, 1, 1, 1, 1, 1, 1, 1, 1, 1, 1, 1, 1, 1, 1, 1, 1, 1, 1, 1, 1, 1, 1, 1, 1, 1, 1, 1, 1, 1, 1, 1, 1, 1, 1, 1, 1, 1, 1, 1, 1, 1, 1, 1, 1, 1, 1, 1, 1, 1, 1, 1, 1, 1, 1, 1, 1, 1, 1, 1, 1, 1, 1, 1, 1, 1, 1, 1, 1, 1, 1, 1, 1, 1, 1, 1, 1, 1, 1, 1, 1, 1, 1, 1, 1, 1, 1, 1, 1, 1, 1, 1, 1, 1, 1, 1, 1, 1, 1, 1, 1, 1, 1, 1, 1]]}"
      ]
     },
     "execution_count": 19,
     "metadata": {},
     "output_type": "execute_result"
    }
   ],
   "source": [
    "tokenizer_bert(512)"
   ]
  },
  {
   "cell_type": "markdown",
   "id": "bf30b820-9fbf-49c1-93dd-a94f19aeb692",
   "metadata": {},
   "source": [
    "### Congrats you made it 🎉"
   ]
  }
 ],
 "metadata": {
  "kernelspec": {
   "display_name": "Python 3 (ipykernel)",
   "language": "python",
   "name": "python3"
  },
  "language_info": {
   "codemirror_mode": {
    "name": "ipython",
    "version": 3
   },
   "file_extension": ".py",
   "mimetype": "text/x-python",
   "name": "python",
   "nbconvert_exporter": "python",
   "pygments_lexer": "ipython3",
   "version": "3.9.12"
  }
 },
 "nbformat": 4,
 "nbformat_minor": 5
}
