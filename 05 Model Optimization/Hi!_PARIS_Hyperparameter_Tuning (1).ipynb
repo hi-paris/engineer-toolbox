{
  "nbformat": 4,
  "nbformat_minor": 0,
  "metadata": {
    "colab": {
      "provenance": []
    },
    "kernelspec": {
      "name": "python3",
      "display_name": "Python 3"
    },
    "language_info": {
      "name": "python"
    },
    "accelerator": "GPU",
    "gpuClass": "standard"
  },
  "cells": [
    {
      "cell_type": "markdown",
      "source": [
        "\n",
        "\n",
        "<center><img src=\"data:image/png;base64,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\" width=300 height=230/></center>\n",
        "\n"
      ],
      "metadata": {
        "id": "N1uLDm4n8CyG"
      }
    },
    {
      "cell_type": "markdown",
      "source": [
        "# Hyperparameter Tuning"
      ],
      "metadata": {
        "id": "ibRZpuUD8QQp"
      }
    },
    {
      "cell_type": "markdown",
      "source": [
        "## I - Dataset"
      ],
      "metadata": {
        "id": "Bj2QMdVORApi"
      }
    },
    {
      "cell_type": "markdown",
      "source": [
        "**Presentation**\n",
        "This dataset is originally from the National Institute of Diabetes and Digestive and Kidney\n",
        "Diseases. The objective of the dataset is to diagnostically predict whether a patient has diabetes,\n",
        "based on certain diagnostic measurements included in the dataset. Several constraints were placed\n",
        "on the selection of these instances from a larger database. In particular, all patients here are females\n",
        "at least 21 years old of Pima Indian heritage.2\n",
        "From the data set in the (.csv) File We can find several variables, some of them are independent\n",
        "(several medical predictor variables) and only one target dependent variable (Outcome)."
      ],
      "metadata": {
        "id": "HkRMMzHIRb2d"
      }
    },
    {
      "cell_type": "markdown",
      "source": [
        "**Data Dictionary**\n",
        "\n",
        "| Columns                  | Description                                      |   |   |   |\n",
        "|--------------------------|--------------------------------------------------|---|---|---|\n",
        "| Pregnancies              | To express the Number of pregnancies             |   |   |   |\n",
        "| Glucose                  | To express the Glucose level in blood            |   |   |   |\n",
        "| BloodPressure            | To express the Blood pressure measurement        |   |   |   |\n",
        "| SkinThickness            | To express the thickness of the skin             |   |   |   |\n",
        "| Insulin                  | To express the Insulin level in blood            |   |   |   |\n",
        "| BMI                      | To express the Body mass index                   |   |   |   |\n",
        "| DiabetesPedigreeFunction | To express the Diabetes percentage               |   |   |   |\n",
        "| Age                      | To express the age                               |   |   |   |\n",
        "| Outcome                  | To express the final result 1 is Yes and 0 is No |   |   |   |"
      ],
      "metadata": {
        "id": "-ea_cRTMe46k"
      }
    },
    {
      "cell_type": "markdown",
      "source": [
        "**Acknowledgements**\n",
        "\n",
        "Smith, J.W., Everhart, J.E., Dickson, W.C., Knowler, W.C., & Johannes, R.S. (1988). Using the ADAP learning algorithm to forecast the onset of diabetes mellitus. In Proceedings of the Symposium on Computer Applications and Medical Care (pp. 261--265). IEEE Computer Society Press.\n",
        "\n",
        "**Problem to solve:**\n",
        "\n",
        "Can you build a machine learning model to accurately predict whether or not the patients in the dataset have diabetes or not?\n"
      ],
      "metadata": {
        "id": "4pYD14KPnoWo"
      }
    },
    {
      "cell_type": "code",
      "source": [
        "import pandas as pd\n",
        "import numpy as np\n",
        "\n",
        "df = pd.read_csv(\"diabetes.csv\")"
      ],
      "metadata": {
        "id": "FxPuVgTzRRYV"
      },
      "execution_count": 4,
      "outputs": []
    },
    {
      "cell_type": "code",
      "source": [
        "display(df.head(3))\n",
        "display(df.shape)"
      ],
      "metadata": {
        "colab": {
          "base_uri": "https://localhost:8080/",
          "height": 161
        },
        "id": "r6EdiUi9RU9p",
        "outputId": "cb4fbad1-cfa7-412e-fa46-678489fbdcef"
      },
      "execution_count": 5,
      "outputs": [
        {
          "output_type": "display_data",
          "data": {
            "text/plain": [
              "   Pregnancies  Glucose  BloodPressure  SkinThickness  Insulin   BMI  \\\n",
              "0            6      148             72             35        0  33.6   \n",
              "1            1       85             66             29        0  26.6   \n",
              "2            8      183             64              0        0  23.3   \n",
              "\n",
              "   DiabetesPedigreeFunction  Age  Outcome  \n",
              "0                     0.627   50        1  \n",
              "1                     0.351   31        0  \n",
              "2                     0.672   32        1  "
            ],
            "text/html": [
              "\n",
              "  <div id=\"df-565f5d26-ed98-4356-a75c-51c74d90f3a4\">\n",
              "    <div class=\"colab-df-container\">\n",
              "      <div>\n",
              "<style scoped>\n",
              "    .dataframe tbody tr th:only-of-type {\n",
              "        vertical-align: middle;\n",
              "    }\n",
              "\n",
              "    .dataframe tbody tr th {\n",
              "        vertical-align: top;\n",
              "    }\n",
              "\n",
              "    .dataframe thead th {\n",
              "        text-align: right;\n",
              "    }\n",
              "</style>\n",
              "<table border=\"1\" class=\"dataframe\">\n",
              "  <thead>\n",
              "    <tr style=\"text-align: right;\">\n",
              "      <th></th>\n",
              "      <th>Pregnancies</th>\n",
              "      <th>Glucose</th>\n",
              "      <th>BloodPressure</th>\n",
              "      <th>SkinThickness</th>\n",
              "      <th>Insulin</th>\n",
              "      <th>BMI</th>\n",
              "      <th>DiabetesPedigreeFunction</th>\n",
              "      <th>Age</th>\n",
              "      <th>Outcome</th>\n",
              "    </tr>\n",
              "  </thead>\n",
              "  <tbody>\n",
              "    <tr>\n",
              "      <th>0</th>\n",
              "      <td>6</td>\n",
              "      <td>148</td>\n",
              "      <td>72</td>\n",
              "      <td>35</td>\n",
              "      <td>0</td>\n",
              "      <td>33.6</td>\n",
              "      <td>0.627</td>\n",
              "      <td>50</td>\n",
              "      <td>1</td>\n",
              "    </tr>\n",
              "    <tr>\n",
              "      <th>1</th>\n",
              "      <td>1</td>\n",
              "      <td>85</td>\n",
              "      <td>66</td>\n",
              "      <td>29</td>\n",
              "      <td>0</td>\n",
              "      <td>26.6</td>\n",
              "      <td>0.351</td>\n",
              "      <td>31</td>\n",
              "      <td>0</td>\n",
              "    </tr>\n",
              "    <tr>\n",
              "      <th>2</th>\n",
              "      <td>8</td>\n",
              "      <td>183</td>\n",
              "      <td>64</td>\n",
              "      <td>0</td>\n",
              "      <td>0</td>\n",
              "      <td>23.3</td>\n",
              "      <td>0.672</td>\n",
              "      <td>32</td>\n",
              "      <td>1</td>\n",
              "    </tr>\n",
              "  </tbody>\n",
              "</table>\n",
              "</div>\n",
              "      <button class=\"colab-df-convert\" onclick=\"convertToInteractive('df-565f5d26-ed98-4356-a75c-51c74d90f3a4')\"\n",
              "              title=\"Convert this dataframe to an interactive table.\"\n",
              "              style=\"display:none;\">\n",
              "        \n",
              "  <svg xmlns=\"http://www.w3.org/2000/svg\" height=\"24px\"viewBox=\"0 0 24 24\"\n",
              "       width=\"24px\">\n",
              "    <path d=\"M0 0h24v24H0V0z\" fill=\"none\"/>\n",
              "    <path d=\"M18.56 5.44l.94 2.06.94-2.06 2.06-.94-2.06-.94-.94-2.06-.94 2.06-2.06.94zm-11 1L8.5 8.5l.94-2.06 2.06-.94-2.06-.94L8.5 2.5l-.94 2.06-2.06.94zm10 10l.94 2.06.94-2.06 2.06-.94-2.06-.94-.94-2.06-.94 2.06-2.06.94z\"/><path d=\"M17.41 7.96l-1.37-1.37c-.4-.4-.92-.59-1.43-.59-.52 0-1.04.2-1.43.59L10.3 9.45l-7.72 7.72c-.78.78-.78 2.05 0 2.83L4 21.41c.39.39.9.59 1.41.59.51 0 1.02-.2 1.41-.59l7.78-7.78 2.81-2.81c.8-.78.8-2.07 0-2.86zM5.41 20L4 18.59l7.72-7.72 1.47 1.35L5.41 20z\"/>\n",
              "  </svg>\n",
              "      </button>\n",
              "      \n",
              "  <style>\n",
              "    .colab-df-container {\n",
              "      display:flex;\n",
              "      flex-wrap:wrap;\n",
              "      gap: 12px;\n",
              "    }\n",
              "\n",
              "    .colab-df-convert {\n",
              "      background-color: #E8F0FE;\n",
              "      border: none;\n",
              "      border-radius: 50%;\n",
              "      cursor: pointer;\n",
              "      display: none;\n",
              "      fill: #1967D2;\n",
              "      height: 32px;\n",
              "      padding: 0 0 0 0;\n",
              "      width: 32px;\n",
              "    }\n",
              "\n",
              "    .colab-df-convert:hover {\n",
              "      background-color: #E2EBFA;\n",
              "      box-shadow: 0px 1px 2px rgba(60, 64, 67, 0.3), 0px 1px 3px 1px rgba(60, 64, 67, 0.15);\n",
              "      fill: #174EA6;\n",
              "    }\n",
              "\n",
              "    [theme=dark] .colab-df-convert {\n",
              "      background-color: #3B4455;\n",
              "      fill: #D2E3FC;\n",
              "    }\n",
              "\n",
              "    [theme=dark] .colab-df-convert:hover {\n",
              "      background-color: #434B5C;\n",
              "      box-shadow: 0px 1px 3px 1px rgba(0, 0, 0, 0.15);\n",
              "      filter: drop-shadow(0px 1px 2px rgba(0, 0, 0, 0.3));\n",
              "      fill: #FFFFFF;\n",
              "    }\n",
              "  </style>\n",
              "\n",
              "      <script>\n",
              "        const buttonEl =\n",
              "          document.querySelector('#df-565f5d26-ed98-4356-a75c-51c74d90f3a4 button.colab-df-convert');\n",
              "        buttonEl.style.display =\n",
              "          google.colab.kernel.accessAllowed ? 'block' : 'none';\n",
              "\n",
              "        async function convertToInteractive(key) {\n",
              "          const element = document.querySelector('#df-565f5d26-ed98-4356-a75c-51c74d90f3a4');\n",
              "          const dataTable =\n",
              "            await google.colab.kernel.invokeFunction('convertToInteractive',\n",
              "                                                     [key], {});\n",
              "          if (!dataTable) return;\n",
              "\n",
              "          const docLinkHtml = 'Like what you see? Visit the ' +\n",
              "            '<a target=\"_blank\" href=https://colab.research.google.com/notebooks/data_table.ipynb>data table notebook</a>'\n",
              "            + ' to learn more about interactive tables.';\n",
              "          element.innerHTML = '';\n",
              "          dataTable['output_type'] = 'display_data';\n",
              "          await google.colab.output.renderOutput(dataTable, element);\n",
              "          const docLink = document.createElement('div');\n",
              "          docLink.innerHTML = docLinkHtml;\n",
              "          element.appendChild(docLink);\n",
              "        }\n",
              "      </script>\n",
              "    </div>\n",
              "  </div>\n",
              "  "
            ]
          },
          "metadata": {}
        },
        {
          "output_type": "display_data",
          "data": {
            "text/plain": [
              "(768, 9)"
            ]
          },
          "metadata": {}
        }
      ]
    },
    {
      "cell_type": "code",
      "source": [
        "df.describe()"
      ],
      "metadata": {
        "colab": {
          "base_uri": "https://localhost:8080/",
          "height": 300
        },
        "id": "WK9GKmnWeFzb",
        "outputId": "95942e75-61d0-40bc-8c70-8ae69a77de17"
      },
      "execution_count": 6,
      "outputs": [
        {
          "output_type": "execute_result",
          "data": {
            "text/plain": [
              "       Pregnancies     Glucose  BloodPressure  SkinThickness     Insulin  \\\n",
              "count   768.000000  768.000000     768.000000     768.000000  768.000000   \n",
              "mean      3.845052  120.894531      69.105469      20.536458   79.799479   \n",
              "std       3.369578   31.972618      19.355807      15.952218  115.244002   \n",
              "min       0.000000    0.000000       0.000000       0.000000    0.000000   \n",
              "25%       1.000000   99.000000      62.000000       0.000000    0.000000   \n",
              "50%       3.000000  117.000000      72.000000      23.000000   30.500000   \n",
              "75%       6.000000  140.250000      80.000000      32.000000  127.250000   \n",
              "max      17.000000  199.000000     122.000000      99.000000  846.000000   \n",
              "\n",
              "              BMI  DiabetesPedigreeFunction         Age     Outcome  \n",
              "count  768.000000                768.000000  768.000000  768.000000  \n",
              "mean    31.992578                  0.471876   33.240885    0.348958  \n",
              "std      7.884160                  0.331329   11.760232    0.476951  \n",
              "min      0.000000                  0.078000   21.000000    0.000000  \n",
              "25%     27.300000                  0.243750   24.000000    0.000000  \n",
              "50%     32.000000                  0.372500   29.000000    0.000000  \n",
              "75%     36.600000                  0.626250   41.000000    1.000000  \n",
              "max     67.100000                  2.420000   81.000000    1.000000  "
            ],
            "text/html": [
              "\n",
              "  <div id=\"df-b84b1c47-af4d-44ab-b0a8-4067a419e85e\">\n",
              "    <div class=\"colab-df-container\">\n",
              "      <div>\n",
              "<style scoped>\n",
              "    .dataframe tbody tr th:only-of-type {\n",
              "        vertical-align: middle;\n",
              "    }\n",
              "\n",
              "    .dataframe tbody tr th {\n",
              "        vertical-align: top;\n",
              "    }\n",
              "\n",
              "    .dataframe thead th {\n",
              "        text-align: right;\n",
              "    }\n",
              "</style>\n",
              "<table border=\"1\" class=\"dataframe\">\n",
              "  <thead>\n",
              "    <tr style=\"text-align: right;\">\n",
              "      <th></th>\n",
              "      <th>Pregnancies</th>\n",
              "      <th>Glucose</th>\n",
              "      <th>BloodPressure</th>\n",
              "      <th>SkinThickness</th>\n",
              "      <th>Insulin</th>\n",
              "      <th>BMI</th>\n",
              "      <th>DiabetesPedigreeFunction</th>\n",
              "      <th>Age</th>\n",
              "      <th>Outcome</th>\n",
              "    </tr>\n",
              "  </thead>\n",
              "  <tbody>\n",
              "    <tr>\n",
              "      <th>count</th>\n",
              "      <td>768.000000</td>\n",
              "      <td>768.000000</td>\n",
              "      <td>768.000000</td>\n",
              "      <td>768.000000</td>\n",
              "      <td>768.000000</td>\n",
              "      <td>768.000000</td>\n",
              "      <td>768.000000</td>\n",
              "      <td>768.000000</td>\n",
              "      <td>768.000000</td>\n",
              "    </tr>\n",
              "    <tr>\n",
              "      <th>mean</th>\n",
              "      <td>3.845052</td>\n",
              "      <td>120.894531</td>\n",
              "      <td>69.105469</td>\n",
              "      <td>20.536458</td>\n",
              "      <td>79.799479</td>\n",
              "      <td>31.992578</td>\n",
              "      <td>0.471876</td>\n",
              "      <td>33.240885</td>\n",
              "      <td>0.348958</td>\n",
              "    </tr>\n",
              "    <tr>\n",
              "      <th>std</th>\n",
              "      <td>3.369578</td>\n",
              "      <td>31.972618</td>\n",
              "      <td>19.355807</td>\n",
              "      <td>15.952218</td>\n",
              "      <td>115.244002</td>\n",
              "      <td>7.884160</td>\n",
              "      <td>0.331329</td>\n",
              "      <td>11.760232</td>\n",
              "      <td>0.476951</td>\n",
              "    </tr>\n",
              "    <tr>\n",
              "      <th>min</th>\n",
              "      <td>0.000000</td>\n",
              "      <td>0.000000</td>\n",
              "      <td>0.000000</td>\n",
              "      <td>0.000000</td>\n",
              "      <td>0.000000</td>\n",
              "      <td>0.000000</td>\n",
              "      <td>0.078000</td>\n",
              "      <td>21.000000</td>\n",
              "      <td>0.000000</td>\n",
              "    </tr>\n",
              "    <tr>\n",
              "      <th>25%</th>\n",
              "      <td>1.000000</td>\n",
              "      <td>99.000000</td>\n",
              "      <td>62.000000</td>\n",
              "      <td>0.000000</td>\n",
              "      <td>0.000000</td>\n",
              "      <td>27.300000</td>\n",
              "      <td>0.243750</td>\n",
              "      <td>24.000000</td>\n",
              "      <td>0.000000</td>\n",
              "    </tr>\n",
              "    <tr>\n",
              "      <th>50%</th>\n",
              "      <td>3.000000</td>\n",
              "      <td>117.000000</td>\n",
              "      <td>72.000000</td>\n",
              "      <td>23.000000</td>\n",
              "      <td>30.500000</td>\n",
              "      <td>32.000000</td>\n",
              "      <td>0.372500</td>\n",
              "      <td>29.000000</td>\n",
              "      <td>0.000000</td>\n",
              "    </tr>\n",
              "    <tr>\n",
              "      <th>75%</th>\n",
              "      <td>6.000000</td>\n",
              "      <td>140.250000</td>\n",
              "      <td>80.000000</td>\n",
              "      <td>32.000000</td>\n",
              "      <td>127.250000</td>\n",
              "      <td>36.600000</td>\n",
              "      <td>0.626250</td>\n",
              "      <td>41.000000</td>\n",
              "      <td>1.000000</td>\n",
              "    </tr>\n",
              "    <tr>\n",
              "      <th>max</th>\n",
              "      <td>17.000000</td>\n",
              "      <td>199.000000</td>\n",
              "      <td>122.000000</td>\n",
              "      <td>99.000000</td>\n",
              "      <td>846.000000</td>\n",
              "      <td>67.100000</td>\n",
              "      <td>2.420000</td>\n",
              "      <td>81.000000</td>\n",
              "      <td>1.000000</td>\n",
              "    </tr>\n",
              "  </tbody>\n",
              "</table>\n",
              "</div>\n",
              "      <button class=\"colab-df-convert\" onclick=\"convertToInteractive('df-b84b1c47-af4d-44ab-b0a8-4067a419e85e')\"\n",
              "              title=\"Convert this dataframe to an interactive table.\"\n",
              "              style=\"display:none;\">\n",
              "        \n",
              "  <svg xmlns=\"http://www.w3.org/2000/svg\" height=\"24px\"viewBox=\"0 0 24 24\"\n",
              "       width=\"24px\">\n",
              "    <path d=\"M0 0h24v24H0V0z\" fill=\"none\"/>\n",
              "    <path d=\"M18.56 5.44l.94 2.06.94-2.06 2.06-.94-2.06-.94-.94-2.06-.94 2.06-2.06.94zm-11 1L8.5 8.5l.94-2.06 2.06-.94-2.06-.94L8.5 2.5l-.94 2.06-2.06.94zm10 10l.94 2.06.94-2.06 2.06-.94-2.06-.94-.94-2.06-.94 2.06-2.06.94z\"/><path d=\"M17.41 7.96l-1.37-1.37c-.4-.4-.92-.59-1.43-.59-.52 0-1.04.2-1.43.59L10.3 9.45l-7.72 7.72c-.78.78-.78 2.05 0 2.83L4 21.41c.39.39.9.59 1.41.59.51 0 1.02-.2 1.41-.59l7.78-7.78 2.81-2.81c.8-.78.8-2.07 0-2.86zM5.41 20L4 18.59l7.72-7.72 1.47 1.35L5.41 20z\"/>\n",
              "  </svg>\n",
              "      </button>\n",
              "      \n",
              "  <style>\n",
              "    .colab-df-container {\n",
              "      display:flex;\n",
              "      flex-wrap:wrap;\n",
              "      gap: 12px;\n",
              "    }\n",
              "\n",
              "    .colab-df-convert {\n",
              "      background-color: #E8F0FE;\n",
              "      border: none;\n",
              "      border-radius: 50%;\n",
              "      cursor: pointer;\n",
              "      display: none;\n",
              "      fill: #1967D2;\n",
              "      height: 32px;\n",
              "      padding: 0 0 0 0;\n",
              "      width: 32px;\n",
              "    }\n",
              "\n",
              "    .colab-df-convert:hover {\n",
              "      background-color: #E2EBFA;\n",
              "      box-shadow: 0px 1px 2px rgba(60, 64, 67, 0.3), 0px 1px 3px 1px rgba(60, 64, 67, 0.15);\n",
              "      fill: #174EA6;\n",
              "    }\n",
              "\n",
              "    [theme=dark] .colab-df-convert {\n",
              "      background-color: #3B4455;\n",
              "      fill: #D2E3FC;\n",
              "    }\n",
              "\n",
              "    [theme=dark] .colab-df-convert:hover {\n",
              "      background-color: #434B5C;\n",
              "      box-shadow: 0px 1px 3px 1px rgba(0, 0, 0, 0.15);\n",
              "      filter: drop-shadow(0px 1px 2px rgba(0, 0, 0, 0.3));\n",
              "      fill: #FFFFFF;\n",
              "    }\n",
              "  </style>\n",
              "\n",
              "      <script>\n",
              "        const buttonEl =\n",
              "          document.querySelector('#df-b84b1c47-af4d-44ab-b0a8-4067a419e85e button.colab-df-convert');\n",
              "        buttonEl.style.display =\n",
              "          google.colab.kernel.accessAllowed ? 'block' : 'none';\n",
              "\n",
              "        async function convertToInteractive(key) {\n",
              "          const element = document.querySelector('#df-b84b1c47-af4d-44ab-b0a8-4067a419e85e');\n",
              "          const dataTable =\n",
              "            await google.colab.kernel.invokeFunction('convertToInteractive',\n",
              "                                                     [key], {});\n",
              "          if (!dataTable) return;\n",
              "\n",
              "          const docLinkHtml = 'Like what you see? Visit the ' +\n",
              "            '<a target=\"_blank\" href=https://colab.research.google.com/notebooks/data_table.ipynb>data table notebook</a>'\n",
              "            + ' to learn more about interactive tables.';\n",
              "          element.innerHTML = '';\n",
              "          dataTable['output_type'] = 'display_data';\n",
              "          await google.colab.output.renderOutput(dataTable, element);\n",
              "          const docLink = document.createElement('div');\n",
              "          docLink.innerHTML = docLinkHtml;\n",
              "          element.appendChild(docLink);\n",
              "        }\n",
              "      </script>\n",
              "    </div>\n",
              "  </div>\n",
              "  "
            ]
          },
          "metadata": {},
          "execution_count": 6
        }
      ]
    },
    {
      "cell_type": "code",
      "source": [
        "# Repartition of individuals with Diabetes and individuals without\n",
        "df[\"Outcome\"].value_counts()"
      ],
      "metadata": {
        "colab": {
          "base_uri": "https://localhost:8080/"
        },
        "id": "RjINKBFlerXs",
        "outputId": "892ca282-4e35-4630-b2da-ba548abeca66"
      },
      "execution_count": 7,
      "outputs": [
        {
          "output_type": "execute_result",
          "data": {
            "text/plain": [
              "0    500\n",
              "1    268\n",
              "Name: Outcome, dtype: int64"
            ]
          },
          "metadata": {},
          "execution_count": 7
        }
      ]
    },
    {
      "cell_type": "markdown",
      "source": [
        "Data Preparation"
      ],
      "metadata": {
        "id": "HLyFiS3AvceY"
      }
    },
    {
      "cell_type": "code",
      "source": [
        "X = df.drop('Outcome', axis=1)\n",
        "y = df[\"Outcome\"]"
      ],
      "metadata": {
        "id": "wFC-hjG2uzvP"
      },
      "execution_count": 10,
      "outputs": []
    },
    {
      "cell_type": "code",
      "source": [
        "from sklearn.model_selection import train_test_split\n",
        "X_train, X_test, y_train, y_test = train_test_split(X, y, random_state=4,test_size=0.33)"
      ],
      "metadata": {
        "id": "V0asUkJrukhI"
      },
      "execution_count": 15,
      "outputs": []
    },
    {
      "cell_type": "markdown",
      "source": [
        "## I - Concept Introduction"
      ],
      "metadata": {
        "id": "GOyv_wALd6SL"
      }
    },
    {
      "cell_type": "markdown",
      "source": [
        "### What is hyperparameter tuning and why it is important?\n",
        "Hyperparameter tuning (or hyperparameter optimization) is the process of determining the right combination of hyperparameters that maximizes the model performance. It works by running multiple trials in a single training process. Each trial is a complete execution of your training application with values for your chosen hyperparameters, set within the limits you specify. This process once finished will give you the set of hyperparameter values that are best suited for the model to give optimal results.  "
      ],
      "metadata": {
        "id": "kE_DsJpsqDEA"
      }
    },
    {
      "cell_type": "markdown",
      "source": [
        " \n",
        "\n",
        "### How to do hyperparameter tuning? How to find the best hyperparameters?\n",
        "Choosing the right combination of hyperparameters requires an understanding of the hyperparameters and the business use-case. However, technically, there are two ways to set them.\n",
        "\n",
        "\n",
        "\n",
        "\n",
        "#### Manual hyperparameter tuning\n",
        "Manual hyperparameter tuning involves experimenting with different sets of hyperparameters manually i.e. each trial with a set of hyperparameters will be performed by you. This technique will require a robust experiment tracker which could track a variety of variables from images, logs to system metrics.\n",
        "\n",
        "There are a few experiment trackers that tick all the boxes. Neptune is one of them. It offers an intuitive UI and an open-source package neptune-client to facilitate logging in your code. You can easily log hyperparameters and see all types of data results like images, metrics, etc. Head over to the docs to see how you can log different metadata to Neptune. \n",
        "\n",
        "Alternative solutions include W&B, Comet, or MLflow. Check more tools for experiment tracking & management here.\n",
        "\n",
        "Advantages of manual hyperparameter optimization:\n",
        "\n",
        "Tuning hyperparameters manually means more control over the process.\n",
        "If you’re researching or studying tuning and how it affects the network weights then doing it manually would make sense. \n",
        "Disadvantages of manual hyperparameter optimization:\n",
        "\n",
        "Manual tuning is a tedious process since there can be many trials and keeping track can prove costly and time-consuming.\n",
        "This isn’t a very practical approach when there are a lot of hyperparameters to consider.\n",
        "Read about how to manually optimize Machine Learning model hyperparameters here.\n",
        "\n",
        "\n",
        "\n",
        "\n",
        "### Automated hyperparameter tuning\n",
        "Automated hyperparameter tuning utilizes already existing algorithms to automate the process. The steps you follow are:\n",
        "\n",
        "First, specify a set of hyperparameters and limits to those hyperparameters’ values (note: every algorithm requires this set to be a specific data structure, e.g. dictionaries are common while working with algorithms). \n",
        "Then the algorithm does the heavy lifting for you. It runs those trials and fetches you the best set of hyperparameters that will give optimal results.\n",
        "In the blog, we will talk about some of the algorithms and tools you could use to achieve automated tuning. Let’s get to it.\n",
        "\n",
        "\n",
        "\n"
      ],
      "metadata": {
        "id": "ErNv1YkepxOg"
      }
    },
    {
      "cell_type": "markdown",
      "source": [
        "### Hyperparameter tuning methods \n",
        "In this section, I will introduce all of the hyperparameter optimization methods that are popular today. \n",
        "\n",
        "#### Random Search\n",
        "In the random search method, we create a grid of possible values for hyperparameters. Each iteration tries a random combination of hyperparameters from this grid, records the performance, and lastly returns the combination of hyperparameters that provided the best performance.\n",
        "\n",
        "#### Grid Search\n",
        "In the grid search method, we create a grid of possible values for hyperparameters. Each iteration tries a combination of hyperparameters in a specific order. It fits the model on each and every combination of hyperparameters possible and records the model performance. Finally, it returns the best model with the best hyperparameters."
      ],
      "metadata": {
        "id": "yfGiXxZFqLe9"
      }
    },
    {
      "cell_type": "markdown",
      "source": [
        "\n",
        "**Steps to Perform Hyperparameter Tuning**\n",
        "\n",
        "* Select the right type of model.\n",
        "* Review the list of parameters of the model and build the HP space\n",
        "* Finding the methods for searching the hyperparameter space\n",
        "* Applying the cross-validation scheme approach\n",
        "* Assess the model score to evaluate the model"
      ],
      "metadata": {
        "id": "gclyf5QXfq10"
      }
    },
    {
      "cell_type": "markdown",
      "source": [
        "In the next parts we will use a Random Forest Model for exmaplifying two approaches to Hyperparameter Tuning"
      ],
      "metadata": {
        "id": "ly6skzKNf1wg"
      }
    },
    {
      "cell_type": "markdown",
      "source": [
        "## II - Grid Search"
      ],
      "metadata": {
        "id": "NBBmxAhY9GDV"
      }
    },
    {
      "cell_type": "markdown",
      "source": [
        "This is a brute force searching technique. In this technique, we create a list of all the combination values for hyperparameters. We then iterate through all hyperparameters. Finally, it records the best performing hyperparameters used in model training. This is shown below:"
      ],
      "metadata": {
        "id": "xa31Nozkh1Ya"
      }
    },
    {
      "cell_type": "markdown",
      "source": [
        "Implementation of Grid Search in Python"
      ],
      "metadata": {
        "id": "IZbdvFC29oCN"
      }
    },
    {
      "cell_type": "code",
      "source": [
        "# Import of the corresponding packages\n",
        "from sklearn.ensemble import RandomForestClassifier\n",
        "from sklearn.model_selection import GridSearchCV\n",
        "\n",
        "# Initiate the model\n",
        "model = RandomForestClassifier(random_state=0)\n",
        "\n",
        "# Creation of the hyperparameter space \n",
        "hyperparameter_space = { \n",
        "\"n_estimators\": [25,50,100,150,200], \n",
        "\"criterion\": [\"gini\", \"entropy\"], \n",
        "\"class_weight\": [\"balanced\",\"balanced_subsample\"],\n",
        "\"min_samples_split\": [0.01,0.1,0.25,0.5,0.75,1.0],\n",
        "} \n",
        "\n",
        "# Initiate the Grid Search Class\n",
        "grid_rf = GridSearchCV(model, hyperparameter_space, \n",
        "                   scoring = 'f1', cv=5, \n",
        "                   n_jobs=-1, refit = True,\n",
        "                   verbose=2)\n",
        "\n",
        "# Run the Grid Search CV\n",
        "\n",
        "searchResults = grid_rf.fit(X_train, y_train)\n",
        "print(\"evaluating...\")\n",
        "bestModel = searchResults.best_estimator_\n",
        "print(\"Best Model using GridSearchCV: \", bestModel)\n",
        "print(\"Top Score: {:.2f}\".format(bestModel.score(X_test, y_test)))\n"
      ],
      "metadata": {
        "colab": {
          "base_uri": "https://localhost:8080/"
        },
        "id": "0LuBvjTwP1YD",
        "outputId": "d95b65c2-fbb6-42a0-d081-f21fd4babac7"
      },
      "execution_count": 16,
      "outputs": [
        {
          "output_type": "stream",
          "name": "stdout",
          "text": [
            "Fitting 5 folds for each of 120 candidates, totalling 600 fits\n",
            "evaluating...\n",
            "Best Model using GridSearchCV:  RandomForestClassifier(class_weight='balanced', criterion='entropy',\n",
            "                       min_samples_split=0.1, n_estimators=150, random_state=0)\n",
            "Top Score: 0.76\n"
          ]
        }
      ]
    },
    {
      "cell_type": "code",
      "source": [
        "df_result_grid_search = pd.DataFrame(grid_rf.cv_results_)"
      ],
      "metadata": {
        "id": "QMQBLhAfbecQ"
      },
      "execution_count": 17,
      "outputs": []
    },
    {
      "cell_type": "code",
      "source": [
        "display(df_result_grid_search.head(3))\n",
        "display(df_result_grid_search.shape)"
      ],
      "metadata": {
        "colab": {
          "base_uri": "https://localhost:8080/",
          "height": 381
        },
        "id": "qxZ31R4NbgVk",
        "outputId": "58c3cfbc-89a6-436e-ded7-fa34127aa453"
      },
      "execution_count": 18,
      "outputs": [
        {
          "output_type": "display_data",
          "data": {
            "text/plain": [
              "   mean_fit_time  std_fit_time  mean_score_time  std_score_time  \\\n",
              "0       0.062514      0.006163         0.008057        0.001895   \n",
              "1       0.112796      0.004470         0.010372        0.000658   \n",
              "2       0.217565      0.013121         0.018585        0.000959   \n",
              "\n",
              "  param_class_weight param_criterion param_min_samples_split  \\\n",
              "0           balanced            gini                    0.01   \n",
              "1           balanced            gini                    0.01   \n",
              "2           balanced            gini                    0.01   \n",
              "\n",
              "  param_n_estimators                                             params  \\\n",
              "0                 25  {'class_weight': 'balanced', 'criterion': 'gin...   \n",
              "1                 50  {'class_weight': 'balanced', 'criterion': 'gin...   \n",
              "2                100  {'class_weight': 'balanced', 'criterion': 'gin...   \n",
              "\n",
              "   split0_test_score  split1_test_score  split2_test_score  split3_test_score  \\\n",
              "0           0.693333           0.666667           0.725000           0.676056   \n",
              "1           0.702703           0.676056           0.648649           0.647887   \n",
              "2           0.712329           0.637681           0.657143           0.638889   \n",
              "\n",
              "   split4_test_score  mean_test_score  std_test_score  rank_test_score  \n",
              "0           0.640000         0.680211        0.028270               26  \n",
              "1           0.583333         0.651726        0.039730               60  \n",
              "2           0.648649         0.658938        0.027617               49  "
            ],
            "text/html": [
              "\n",
              "  <div id=\"df-95622c0a-223b-4322-a3f0-df5e4b0571e1\">\n",
              "    <div class=\"colab-df-container\">\n",
              "      <div>\n",
              "<style scoped>\n",
              "    .dataframe tbody tr th:only-of-type {\n",
              "        vertical-align: middle;\n",
              "    }\n",
              "\n",
              "    .dataframe tbody tr th {\n",
              "        vertical-align: top;\n",
              "    }\n",
              "\n",
              "    .dataframe thead th {\n",
              "        text-align: right;\n",
              "    }\n",
              "</style>\n",
              "<table border=\"1\" class=\"dataframe\">\n",
              "  <thead>\n",
              "    <tr style=\"text-align: right;\">\n",
              "      <th></th>\n",
              "      <th>mean_fit_time</th>\n",
              "      <th>std_fit_time</th>\n",
              "      <th>mean_score_time</th>\n",
              "      <th>std_score_time</th>\n",
              "      <th>param_class_weight</th>\n",
              "      <th>param_criterion</th>\n",
              "      <th>param_min_samples_split</th>\n",
              "      <th>param_n_estimators</th>\n",
              "      <th>params</th>\n",
              "      <th>split0_test_score</th>\n",
              "      <th>split1_test_score</th>\n",
              "      <th>split2_test_score</th>\n",
              "      <th>split3_test_score</th>\n",
              "      <th>split4_test_score</th>\n",
              "      <th>mean_test_score</th>\n",
              "      <th>std_test_score</th>\n",
              "      <th>rank_test_score</th>\n",
              "    </tr>\n",
              "  </thead>\n",
              "  <tbody>\n",
              "    <tr>\n",
              "      <th>0</th>\n",
              "      <td>0.062514</td>\n",
              "      <td>0.006163</td>\n",
              "      <td>0.008057</td>\n",
              "      <td>0.001895</td>\n",
              "      <td>balanced</td>\n",
              "      <td>gini</td>\n",
              "      <td>0.01</td>\n",
              "      <td>25</td>\n",
              "      <td>{'class_weight': 'balanced', 'criterion': 'gin...</td>\n",
              "      <td>0.693333</td>\n",
              "      <td>0.666667</td>\n",
              "      <td>0.725000</td>\n",
              "      <td>0.676056</td>\n",
              "      <td>0.640000</td>\n",
              "      <td>0.680211</td>\n",
              "      <td>0.028270</td>\n",
              "      <td>26</td>\n",
              "    </tr>\n",
              "    <tr>\n",
              "      <th>1</th>\n",
              "      <td>0.112796</td>\n",
              "      <td>0.004470</td>\n",
              "      <td>0.010372</td>\n",
              "      <td>0.000658</td>\n",
              "      <td>balanced</td>\n",
              "      <td>gini</td>\n",
              "      <td>0.01</td>\n",
              "      <td>50</td>\n",
              "      <td>{'class_weight': 'balanced', 'criterion': 'gin...</td>\n",
              "      <td>0.702703</td>\n",
              "      <td>0.676056</td>\n",
              "      <td>0.648649</td>\n",
              "      <td>0.647887</td>\n",
              "      <td>0.583333</td>\n",
              "      <td>0.651726</td>\n",
              "      <td>0.039730</td>\n",
              "      <td>60</td>\n",
              "    </tr>\n",
              "    <tr>\n",
              "      <th>2</th>\n",
              "      <td>0.217565</td>\n",
              "      <td>0.013121</td>\n",
              "      <td>0.018585</td>\n",
              "      <td>0.000959</td>\n",
              "      <td>balanced</td>\n",
              "      <td>gini</td>\n",
              "      <td>0.01</td>\n",
              "      <td>100</td>\n",
              "      <td>{'class_weight': 'balanced', 'criterion': 'gin...</td>\n",
              "      <td>0.712329</td>\n",
              "      <td>0.637681</td>\n",
              "      <td>0.657143</td>\n",
              "      <td>0.638889</td>\n",
              "      <td>0.648649</td>\n",
              "      <td>0.658938</td>\n",
              "      <td>0.027617</td>\n",
              "      <td>49</td>\n",
              "    </tr>\n",
              "  </tbody>\n",
              "</table>\n",
              "</div>\n",
              "      <button class=\"colab-df-convert\" onclick=\"convertToInteractive('df-95622c0a-223b-4322-a3f0-df5e4b0571e1')\"\n",
              "              title=\"Convert this dataframe to an interactive table.\"\n",
              "              style=\"display:none;\">\n",
              "        \n",
              "  <svg xmlns=\"http://www.w3.org/2000/svg\" height=\"24px\"viewBox=\"0 0 24 24\"\n",
              "       width=\"24px\">\n",
              "    <path d=\"M0 0h24v24H0V0z\" fill=\"none\"/>\n",
              "    <path d=\"M18.56 5.44l.94 2.06.94-2.06 2.06-.94-2.06-.94-.94-2.06-.94 2.06-2.06.94zm-11 1L8.5 8.5l.94-2.06 2.06-.94-2.06-.94L8.5 2.5l-.94 2.06-2.06.94zm10 10l.94 2.06.94-2.06 2.06-.94-2.06-.94-.94-2.06-.94 2.06-2.06.94z\"/><path d=\"M17.41 7.96l-1.37-1.37c-.4-.4-.92-.59-1.43-.59-.52 0-1.04.2-1.43.59L10.3 9.45l-7.72 7.72c-.78.78-.78 2.05 0 2.83L4 21.41c.39.39.9.59 1.41.59.51 0 1.02-.2 1.41-.59l7.78-7.78 2.81-2.81c.8-.78.8-2.07 0-2.86zM5.41 20L4 18.59l7.72-7.72 1.47 1.35L5.41 20z\"/>\n",
              "  </svg>\n",
              "      </button>\n",
              "      \n",
              "  <style>\n",
              "    .colab-df-container {\n",
              "      display:flex;\n",
              "      flex-wrap:wrap;\n",
              "      gap: 12px;\n",
              "    }\n",
              "\n",
              "    .colab-df-convert {\n",
              "      background-color: #E8F0FE;\n",
              "      border: none;\n",
              "      border-radius: 50%;\n",
              "      cursor: pointer;\n",
              "      display: none;\n",
              "      fill: #1967D2;\n",
              "      height: 32px;\n",
              "      padding: 0 0 0 0;\n",
              "      width: 32px;\n",
              "    }\n",
              "\n",
              "    .colab-df-convert:hover {\n",
              "      background-color: #E2EBFA;\n",
              "      box-shadow: 0px 1px 2px rgba(60, 64, 67, 0.3), 0px 1px 3px 1px rgba(60, 64, 67, 0.15);\n",
              "      fill: #174EA6;\n",
              "    }\n",
              "\n",
              "    [theme=dark] .colab-df-convert {\n",
              "      background-color: #3B4455;\n",
              "      fill: #D2E3FC;\n",
              "    }\n",
              "\n",
              "    [theme=dark] .colab-df-convert:hover {\n",
              "      background-color: #434B5C;\n",
              "      box-shadow: 0px 1px 3px 1px rgba(0, 0, 0, 0.15);\n",
              "      filter: drop-shadow(0px 1px 2px rgba(0, 0, 0, 0.3));\n",
              "      fill: #FFFFFF;\n",
              "    }\n",
              "  </style>\n",
              "\n",
              "      <script>\n",
              "        const buttonEl =\n",
              "          document.querySelector('#df-95622c0a-223b-4322-a3f0-df5e4b0571e1 button.colab-df-convert');\n",
              "        buttonEl.style.display =\n",
              "          google.colab.kernel.accessAllowed ? 'block' : 'none';\n",
              "\n",
              "        async function convertToInteractive(key) {\n",
              "          const element = document.querySelector('#df-95622c0a-223b-4322-a3f0-df5e4b0571e1');\n",
              "          const dataTable =\n",
              "            await google.colab.kernel.invokeFunction('convertToInteractive',\n",
              "                                                     [key], {});\n",
              "          if (!dataTable) return;\n",
              "\n",
              "          const docLinkHtml = 'Like what you see? Visit the ' +\n",
              "            '<a target=\"_blank\" href=https://colab.research.google.com/notebooks/data_table.ipynb>data table notebook</a>'\n",
              "            + ' to learn more about interactive tables.';\n",
              "          element.innerHTML = '';\n",
              "          dataTable['output_type'] = 'display_data';\n",
              "          await google.colab.output.renderOutput(dataTable, element);\n",
              "          const docLink = document.createElement('div');\n",
              "          docLink.innerHTML = docLinkHtml;\n",
              "          element.appendChild(docLink);\n",
              "        }\n",
              "      </script>\n",
              "    </div>\n",
              "  </div>\n",
              "  "
            ]
          },
          "metadata": {}
        },
        {
          "output_type": "display_data",
          "data": {
            "text/plain": [
              "(120, 17)"
            ]
          },
          "metadata": {}
        }
      ]
    },
    {
      "cell_type": "markdown",
      "source": [
        "Grid search is easy to implement to find the best model within the grid. However, it is computationally expensive as the number of the model continues to multiply when we add new hyperparameter values."
      ],
      "metadata": {
        "id": "O8aZNrVCchU7"
      }
    },
    {
      "cell_type": "markdown",
      "source": [
        "## III - Random Search"
      ],
      "metadata": {
        "id": "QjNS28VX9I4v"
      }
    },
    {
      "cell_type": "markdown",
      "source": [
        "Like grid search, we still set the hyperparameter values we want to tune in Random Search. However, the model does not train each combination of hyperparameters, it instead selects them randomly. We have to define the number of samples we want to choose from our grid."
      ],
      "metadata": {
        "id": "4bMg1W-XcrNc"
      }
    },
    {
      "cell_type": "markdown",
      "source": [
        "Implementation of Random Search in Python"
      ],
      "metadata": {
        "id": "ebJsBnLR9xAf"
      }
    },
    {
      "cell_type": "code",
      "source": [
        "# Import of the corresponding packages\n",
        "from sklearn.ensemble import RandomForestClassifier\n",
        "from sklearn.model_selection import RandomizedSearchCV\n",
        "\n",
        "# Initiate the model\n",
        "model = RandomForestClassifier()\n",
        "\n",
        "# Creation of the hyperparameter space \n",
        "hyperparameter_space = { \n",
        "\"n_estimators\": [25,50,100,150,200], \n",
        "\"criterion\": [\"gini\", \"entropy\"], \n",
        "\"class_weight\": [\"balanced\",\"balanced_subsample\"],\n",
        "\"min_samples_split\": [0.01,0.1,0.25,0.5,0.75,1.0],\n",
        "} \n",
        "\n",
        "# Initiate the Randomized Search Class\n",
        "random_rf = RandomizedSearchCV(model, hyperparameter_space, \n",
        "                   scoring = 'f1', cv=5, \n",
        "                   n_jobs=-1, refit = True,\n",
        "                   verbose=2)\n",
        "\n",
        "\n",
        "# Run Random Search \n",
        "searchResults = random_rf.fit(X_train, y_train)\n",
        "print(\"evaluating...\")\n",
        "bestModel = searchResults.best_estimator_\n",
        "print(\"Best Model using GridSearchCV: \", bestModel)\n",
        "print(\"Top Score: {:.2f}\".format(bestModel.score(X_test, y_test)))"
      ],
      "metadata": {
        "colab": {
          "base_uri": "https://localhost:8080/"
        },
        "id": "Sn-Zb-OU9uS7",
        "outputId": "bccf9b20-ce85-4886-da9b-4e79a35dfee2"
      },
      "execution_count": 19,
      "outputs": [
        {
          "output_type": "stream",
          "name": "stdout",
          "text": [
            "Fitting 5 folds for each of 10 candidates, totalling 50 fits\n",
            "evaluating...\n",
            "Best Model using GridSearchCV:  RandomForestClassifier(class_weight='balanced_subsample',\n",
            "                       min_samples_split=0.25)\n",
            "Top Score: 0.75\n"
          ]
        }
      ]
    },
    {
      "cell_type": "code",
      "source": [
        "df_result_random_search = pd.DataFrame(random_rf.cv_results_)\n",
        "display(df_result_random_search.head(3))\n",
        "display(df_result_random_search.shape)"
      ],
      "metadata": {
        "colab": {
          "base_uri": "https://localhost:8080/",
          "height": 364
        },
        "id": "-uDYwahrdqN4",
        "outputId": "3f641599-f0db-4905-b3e1-3122c8acce4a"
      },
      "execution_count": 20,
      "outputs": [
        {
          "output_type": "display_data",
          "data": {
            "text/plain": [
              "   mean_fit_time  std_fit_time  mean_score_time  std_score_time  \\\n",
              "0       0.456472      0.017950         0.030532        0.001097   \n",
              "1       0.092437      0.006121         0.011260        0.001870   \n",
              "2       0.244208      0.003802         0.018283        0.001365   \n",
              "\n",
              "  param_n_estimators param_min_samples_split param_criterion  \\\n",
              "0                200                    0.75         entropy   \n",
              "1                 50                    0.75         entropy   \n",
              "2                100                    0.25            gini   \n",
              "\n",
              "   param_class_weight                                             params  \\\n",
              "0  balanced_subsample  {'n_estimators': 200, 'min_samples_split': 0.7...   \n",
              "1            balanced  {'n_estimators': 50, 'min_samples_split': 0.75...   \n",
              "2  balanced_subsample  {'n_estimators': 100, 'min_samples_split': 0.2...   \n",
              "\n",
              "   split0_test_score  split1_test_score  split2_test_score  split3_test_score  \\\n",
              "0           0.000000           0.000000           0.528571           0.528571   \n",
              "1           0.000000           0.000000           0.000000           0.528571   \n",
              "2           0.758621           0.682353           0.733333           0.682353   \n",
              "\n",
              "   split4_test_score  mean_test_score  std_test_score  rank_test_score  \n",
              "0           0.532374         0.317903        0.259571                6  \n",
              "1           0.000000         0.105714        0.211429               10  \n",
              "2           0.650602         0.701452        0.038987                1  "
            ],
            "text/html": [
              "\n",
              "  <div id=\"df-0621a5e4-54be-4319-9f79-3ce3e90edc13\">\n",
              "    <div class=\"colab-df-container\">\n",
              "      <div>\n",
              "<style scoped>\n",
              "    .dataframe tbody tr th:only-of-type {\n",
              "        vertical-align: middle;\n",
              "    }\n",
              "\n",
              "    .dataframe tbody tr th {\n",
              "        vertical-align: top;\n",
              "    }\n",
              "\n",
              "    .dataframe thead th {\n",
              "        text-align: right;\n",
              "    }\n",
              "</style>\n",
              "<table border=\"1\" class=\"dataframe\">\n",
              "  <thead>\n",
              "    <tr style=\"text-align: right;\">\n",
              "      <th></th>\n",
              "      <th>mean_fit_time</th>\n",
              "      <th>std_fit_time</th>\n",
              "      <th>mean_score_time</th>\n",
              "      <th>std_score_time</th>\n",
              "      <th>param_n_estimators</th>\n",
              "      <th>param_min_samples_split</th>\n",
              "      <th>param_criterion</th>\n",
              "      <th>param_class_weight</th>\n",
              "      <th>params</th>\n",
              "      <th>split0_test_score</th>\n",
              "      <th>split1_test_score</th>\n",
              "      <th>split2_test_score</th>\n",
              "      <th>split3_test_score</th>\n",
              "      <th>split4_test_score</th>\n",
              "      <th>mean_test_score</th>\n",
              "      <th>std_test_score</th>\n",
              "      <th>rank_test_score</th>\n",
              "    </tr>\n",
              "  </thead>\n",
              "  <tbody>\n",
              "    <tr>\n",
              "      <th>0</th>\n",
              "      <td>0.456472</td>\n",
              "      <td>0.017950</td>\n",
              "      <td>0.030532</td>\n",
              "      <td>0.001097</td>\n",
              "      <td>200</td>\n",
              "      <td>0.75</td>\n",
              "      <td>entropy</td>\n",
              "      <td>balanced_subsample</td>\n",
              "      <td>{'n_estimators': 200, 'min_samples_split': 0.7...</td>\n",
              "      <td>0.000000</td>\n",
              "      <td>0.000000</td>\n",
              "      <td>0.528571</td>\n",
              "      <td>0.528571</td>\n",
              "      <td>0.532374</td>\n",
              "      <td>0.317903</td>\n",
              "      <td>0.259571</td>\n",
              "      <td>6</td>\n",
              "    </tr>\n",
              "    <tr>\n",
              "      <th>1</th>\n",
              "      <td>0.092437</td>\n",
              "      <td>0.006121</td>\n",
              "      <td>0.011260</td>\n",
              "      <td>0.001870</td>\n",
              "      <td>50</td>\n",
              "      <td>0.75</td>\n",
              "      <td>entropy</td>\n",
              "      <td>balanced</td>\n",
              "      <td>{'n_estimators': 50, 'min_samples_split': 0.75...</td>\n",
              "      <td>0.000000</td>\n",
              "      <td>0.000000</td>\n",
              "      <td>0.000000</td>\n",
              "      <td>0.528571</td>\n",
              "      <td>0.000000</td>\n",
              "      <td>0.105714</td>\n",
              "      <td>0.211429</td>\n",
              "      <td>10</td>\n",
              "    </tr>\n",
              "    <tr>\n",
              "      <th>2</th>\n",
              "      <td>0.244208</td>\n",
              "      <td>0.003802</td>\n",
              "      <td>0.018283</td>\n",
              "      <td>0.001365</td>\n",
              "      <td>100</td>\n",
              "      <td>0.25</td>\n",
              "      <td>gini</td>\n",
              "      <td>balanced_subsample</td>\n",
              "      <td>{'n_estimators': 100, 'min_samples_split': 0.2...</td>\n",
              "      <td>0.758621</td>\n",
              "      <td>0.682353</td>\n",
              "      <td>0.733333</td>\n",
              "      <td>0.682353</td>\n",
              "      <td>0.650602</td>\n",
              "      <td>0.701452</td>\n",
              "      <td>0.038987</td>\n",
              "      <td>1</td>\n",
              "    </tr>\n",
              "  </tbody>\n",
              "</table>\n",
              "</div>\n",
              "      <button class=\"colab-df-convert\" onclick=\"convertToInteractive('df-0621a5e4-54be-4319-9f79-3ce3e90edc13')\"\n",
              "              title=\"Convert this dataframe to an interactive table.\"\n",
              "              style=\"display:none;\">\n",
              "        \n",
              "  <svg xmlns=\"http://www.w3.org/2000/svg\" height=\"24px\"viewBox=\"0 0 24 24\"\n",
              "       width=\"24px\">\n",
              "    <path d=\"M0 0h24v24H0V0z\" fill=\"none\"/>\n",
              "    <path d=\"M18.56 5.44l.94 2.06.94-2.06 2.06-.94-2.06-.94-.94-2.06-.94 2.06-2.06.94zm-11 1L8.5 8.5l.94-2.06 2.06-.94-2.06-.94L8.5 2.5l-.94 2.06-2.06.94zm10 10l.94 2.06.94-2.06 2.06-.94-2.06-.94-.94-2.06-.94 2.06-2.06.94z\"/><path d=\"M17.41 7.96l-1.37-1.37c-.4-.4-.92-.59-1.43-.59-.52 0-1.04.2-1.43.59L10.3 9.45l-7.72 7.72c-.78.78-.78 2.05 0 2.83L4 21.41c.39.39.9.59 1.41.59.51 0 1.02-.2 1.41-.59l7.78-7.78 2.81-2.81c.8-.78.8-2.07 0-2.86zM5.41 20L4 18.59l7.72-7.72 1.47 1.35L5.41 20z\"/>\n",
              "  </svg>\n",
              "      </button>\n",
              "      \n",
              "  <style>\n",
              "    .colab-df-container {\n",
              "      display:flex;\n",
              "      flex-wrap:wrap;\n",
              "      gap: 12px;\n",
              "    }\n",
              "\n",
              "    .colab-df-convert {\n",
              "      background-color: #E8F0FE;\n",
              "      border: none;\n",
              "      border-radius: 50%;\n",
              "      cursor: pointer;\n",
              "      display: none;\n",
              "      fill: #1967D2;\n",
              "      height: 32px;\n",
              "      padding: 0 0 0 0;\n",
              "      width: 32px;\n",
              "    }\n",
              "\n",
              "    .colab-df-convert:hover {\n",
              "      background-color: #E2EBFA;\n",
              "      box-shadow: 0px 1px 2px rgba(60, 64, 67, 0.3), 0px 1px 3px 1px rgba(60, 64, 67, 0.15);\n",
              "      fill: #174EA6;\n",
              "    }\n",
              "\n",
              "    [theme=dark] .colab-df-convert {\n",
              "      background-color: #3B4455;\n",
              "      fill: #D2E3FC;\n",
              "    }\n",
              "\n",
              "    [theme=dark] .colab-df-convert:hover {\n",
              "      background-color: #434B5C;\n",
              "      box-shadow: 0px 1px 3px 1px rgba(0, 0, 0, 0.15);\n",
              "      filter: drop-shadow(0px 1px 2px rgba(0, 0, 0, 0.3));\n",
              "      fill: #FFFFFF;\n",
              "    }\n",
              "  </style>\n",
              "\n",
              "      <script>\n",
              "        const buttonEl =\n",
              "          document.querySelector('#df-0621a5e4-54be-4319-9f79-3ce3e90edc13 button.colab-df-convert');\n",
              "        buttonEl.style.display =\n",
              "          google.colab.kernel.accessAllowed ? 'block' : 'none';\n",
              "\n",
              "        async function convertToInteractive(key) {\n",
              "          const element = document.querySelector('#df-0621a5e4-54be-4319-9f79-3ce3e90edc13');\n",
              "          const dataTable =\n",
              "            await google.colab.kernel.invokeFunction('convertToInteractive',\n",
              "                                                     [key], {});\n",
              "          if (!dataTable) return;\n",
              "\n",
              "          const docLinkHtml = 'Like what you see? Visit the ' +\n",
              "            '<a target=\"_blank\" href=https://colab.research.google.com/notebooks/data_table.ipynb>data table notebook</a>'\n",
              "            + ' to learn more about interactive tables.';\n",
              "          element.innerHTML = '';\n",
              "          dataTable['output_type'] = 'display_data';\n",
              "          await google.colab.output.renderOutput(dataTable, element);\n",
              "          const docLink = document.createElement('div');\n",
              "          docLink.innerHTML = docLinkHtml;\n",
              "          element.appendChild(docLink);\n",
              "        }\n",
              "      </script>\n",
              "    </div>\n",
              "  </div>\n",
              "  "
            ]
          },
          "metadata": {}
        },
        {
          "output_type": "display_data",
          "data": {
            "text/plain": [
              "(10, 17)"
            ]
          },
          "metadata": {}
        }
      ]
    },
    {
      "cell_type": "markdown",
      "source": [
        "Random search is computationally cheaper. However, it is not guaranteed to find the best score from the sample space."
      ],
      "metadata": {
        "id": "7ecY5Inoc_t-"
      }
    },
    {
      "cell_type": "markdown",
      "source": [
        "## IV - With Neural Networks"
      ],
      "metadata": {
        "id": "RWgS19Ci_iLo"
      }
    },
    {
      "cell_type": "markdown",
      "source": [
        "In this example, you will go a step further. The function that you specify to the model argument when creating the KerasClassifier wrapper can take arguments. You can use these arguments to further customize the construction of the model. In addition, you know you can provide arguments to the fit() function.\n",
        "\n",
        "In this example, you will use a grid search to evaluate different configurations for your neural network model and report on the combination that provides the best-estimated performance.\n",
        "\n",
        "The create_model() function is defined to take two arguments, optimizer and init, both of which must have default values. This will allow you to evaluate the effect of using different optimization algorithms and weight initialization schemes for your network.\n",
        "\n",
        "After creating your model, define the arrays of values for the parameter you wish to search, specifically:\n",
        "\n",
        "* Optimizers for searching different weight values\n",
        "* Initializers for preparing the network weights using different schemes\n",
        "* Epochs for training the model for a different number of exposures to the training dataset\n",
        "* Batches for varying the number of samples before a weight update\n"
      ],
      "metadata": {
        "id": "E4P22uNsmhP2"
      }
    },
    {
      "cell_type": "markdown",
      "source": [
        "For this example we will reuse the diabetes dataframe"
      ],
      "metadata": {
        "id": "nZHqtRUjne0w"
      }
    },
    {
      "cell_type": "code",
      "source": [
        "!pip install scikeras"
      ],
      "metadata": {
        "colab": {
          "base_uri": "https://localhost:8080/"
        },
        "id": "wD1ufUSUwQoX",
        "outputId": "2dbfcafd-e180-4523-da4e-bb9c21b350b6"
      },
      "execution_count": 22,
      "outputs": [
        {
          "output_type": "stream",
          "name": "stdout",
          "text": [
            "Looking in indexes: https://pypi.org/simple, https://us-python.pkg.dev/colab-wheels/public/simple/\n",
            "Collecting scikeras\n",
            "  Downloading scikeras-0.9.0-py3-none-any.whl (27 kB)\n",
            "Requirement already satisfied: scikit-learn>=1.0.0 in /usr/local/lib/python3.8/dist-packages (from scikeras) (1.0.2)\n",
            "Requirement already satisfied: packaging>=0.21 in /usr/local/lib/python3.8/dist-packages (from scikeras) (21.3)\n",
            "Requirement already satisfied: pyparsing!=3.0.5,>=2.0.2 in /usr/local/lib/python3.8/dist-packages (from packaging>=0.21->scikeras) (3.0.9)\n",
            "Requirement already satisfied: threadpoolctl>=2.0.0 in /usr/local/lib/python3.8/dist-packages (from scikit-learn>=1.0.0->scikeras) (3.1.0)\n",
            "Requirement already satisfied: scipy>=1.1.0 in /usr/local/lib/python3.8/dist-packages (from scikit-learn>=1.0.0->scikeras) (1.7.3)\n",
            "Requirement already satisfied: joblib>=0.11 in /usr/local/lib/python3.8/dist-packages (from scikit-learn>=1.0.0->scikeras) (1.2.0)\n",
            "Requirement already satisfied: numpy>=1.14.6 in /usr/local/lib/python3.8/dist-packages (from scikit-learn>=1.0.0->scikeras) (1.21.6)\n",
            "Installing collected packages: scikeras\n",
            "Successfully installed scikeras-0.9.0\n"
          ]
        }
      ]
    },
    {
      "cell_type": "code",
      "source": [
        "# MLP for Pima Indians Dataset with grid search via sklearn\n",
        "from tensorflow.keras.models import Sequential\n",
        "from tensorflow.keras.layers import Dense\n",
        "from scikeras.wrappers import KerasClassifier\n",
        "from sklearn.model_selection import GridSearchCV\n",
        "import numpy as np\n",
        "\n",
        "# Function to create model, required for KerasClassifier\n",
        "def create_model(optimizer='rmsprop', init='glorot_uniform'):\n",
        "    # create model\n",
        "    model = Sequential()\n",
        "    model.add(Dense(12, input_dim=8, kernel_initializer=init, activation='relu'))\n",
        "    model.add(Dense(8, kernel_initializer=init, activation='relu'))\n",
        "    model.add(Dense(1, kernel_initializer=init, activation='sigmoid'))\n",
        "    # Compile model\n",
        "    model.compile(loss='binary_crossentropy', optimizer=optimizer, metrics=['accuracy'])\n",
        "    return model\n",
        "\n",
        "# fix random seed for reproducibility\n",
        "seed = 1\n",
        "np.random.seed(seed)\n",
        "dataset = df\n",
        "\n",
        "# create model\n",
        "model = KerasClassifier(model=create_model, verbose=0)\n",
        "print(model.get_params().keys())\n",
        "# grid search epochs, batch size and optimizer\n",
        "optimizers = ['rmsprop', 'adam']\n",
        "init = ['glorot_uniform', 'normal', 'uniform']\n",
        "epochs = [50, 100, 150]\n",
        "batches = [5, 10, 20]\n",
        "param_grid = dict(optimizer=optimizers, epochs=epochs, batch_size=batches, model__init=init)\n",
        "grid = GridSearchCV(estimator=model, param_grid=param_grid)\n",
        "grid_result = grid.fit(X, y)\n",
        "# summarize results\n",
        "print(\"Best: %f using %s\" % (grid_result.best_score_, grid_result.best_params_))\n",
        "means = grid_result.cv_results_['mean_test_score']\n",
        "stds = grid_result.cv_results_['std_test_score']\n",
        "params = grid_result.cv_results_['params']\n",
        "for mean, stdev, param in zip(means, stds, params):\n",
        "    print(\"%f (%f) with: %r\" % (mean, stdev, param))"
      ],
      "metadata": {
        "colab": {
          "base_uri": "https://localhost:8080/"
        },
        "id": "YF3ERjE5l2Q6",
        "outputId": "344643ff-47b9-4f7a-8d80-19128c115a9c"
      },
      "execution_count": 23,
      "outputs": [
        {
          "output_type": "stream",
          "name": "stdout",
          "text": [
            "dict_keys(['model', 'build_fn', 'warm_start', 'random_state', 'optimizer', 'loss', 'metrics', 'batch_size', 'validation_batch_size', 'verbose', 'callbacks', 'validation_split', 'shuffle', 'run_eagerly', 'epochs', 'class_weight'])\n",
            "Best: 0.766989 using {'batch_size': 5, 'epochs': 150, 'model__init': 'normal', 'optimizer': 'adam'}\n",
            "0.701833 (0.009166) with: {'batch_size': 5, 'epochs': 50, 'model__init': 'glorot_uniform', 'optimizer': 'rmsprop'}\n",
            "0.701833 (0.031399) with: {'batch_size': 5, 'epochs': 50, 'model__init': 'glorot_uniform', 'optimizer': 'adam'}\n",
            "0.746083 (0.019858) with: {'batch_size': 5, 'epochs': 50, 'model__init': 'normal', 'optimizer': 'rmsprop'}\n",
            "0.722681 (0.017320) with: {'batch_size': 5, 'epochs': 50, 'model__init': 'normal', 'optimizer': 'adam'}\n",
            "0.700467 (0.027028) with: {'batch_size': 5, 'epochs': 50, 'model__init': 'uniform', 'optimizer': 'rmsprop'}\n",
            "0.704405 (0.034292) with: {'batch_size': 5, 'epochs': 50, 'model__init': 'uniform', 'optimizer': 'adam'}\n",
            "0.716238 (0.035818) with: {'batch_size': 5, 'epochs': 100, 'model__init': 'glorot_uniform', 'optimizer': 'rmsprop'}\n",
            "0.710950 (0.021796) with: {'batch_size': 5, 'epochs': 100, 'model__init': 'glorot_uniform', 'optimizer': 'adam'}\n",
            "0.730490 (0.028817) with: {'batch_size': 5, 'epochs': 100, 'model__init': 'normal', 'optimizer': 'rmsprop'}\n",
            "0.742280 (0.030500) with: {'batch_size': 5, 'epochs': 100, 'model__init': 'normal', 'optimizer': 'adam'}\n",
            "0.742221 (0.032118) with: {'batch_size': 5, 'epochs': 100, 'model__init': 'uniform', 'optimizer': 'rmsprop'}\n",
            "0.748748 (0.030533) with: {'batch_size': 5, 'epochs': 100, 'model__init': 'uniform', 'optimizer': 'adam'}\n",
            "0.733121 (0.024899) with: {'batch_size': 5, 'epochs': 150, 'model__init': 'glorot_uniform', 'optimizer': 'rmsprop'}\n",
            "0.726560 (0.033890) with: {'batch_size': 5, 'epochs': 150, 'model__init': 'glorot_uniform', 'optimizer': 'adam'}\n",
            "0.751286 (0.018350) with: {'batch_size': 5, 'epochs': 150, 'model__init': 'normal', 'optimizer': 'rmsprop'}\n",
            "0.766989 (0.030137) with: {'batch_size': 5, 'epochs': 150, 'model__init': 'normal', 'optimizer': 'adam'}\n",
            "0.760513 (0.033648) with: {'batch_size': 5, 'epochs': 150, 'model__init': 'uniform', 'optimizer': 'rmsprop'}\n",
            "0.738290 (0.024803) with: {'batch_size': 5, 'epochs': 150, 'model__init': 'uniform', 'optimizer': 'adam'}\n",
            "0.674484 (0.060182) with: {'batch_size': 10, 'epochs': 50, 'model__init': 'glorot_uniform', 'optimizer': 'rmsprop'}\n",
            "0.714914 (0.025721) with: {'batch_size': 10, 'epochs': 50, 'model__init': 'glorot_uniform', 'optimizer': 'adam'}\n",
            "0.722715 (0.031010) with: {'batch_size': 10, 'epochs': 50, 'model__init': 'normal', 'optimizer': 'rmsprop'}\n",
            "0.711018 (0.040734) with: {'batch_size': 10, 'epochs': 50, 'model__init': 'normal', 'optimizer': 'adam'}\n",
            "0.696630 (0.035392) with: {'batch_size': 10, 'epochs': 50, 'model__init': 'uniform', 'optimizer': 'rmsprop'}\n",
            "0.717477 (0.019106) with: {'batch_size': 10, 'epochs': 50, 'model__init': 'uniform', 'optimizer': 'adam'}\n",
            "0.678389 (0.057857) with: {'batch_size': 10, 'epochs': 100, 'model__init': 'glorot_uniform', 'optimizer': 'rmsprop'}\n",
            "0.704448 (0.020054) with: {'batch_size': 10, 'epochs': 100, 'model__init': 'glorot_uniform', 'optimizer': 'adam'}\n",
            "0.757856 (0.022575) with: {'batch_size': 10, 'epochs': 100, 'model__init': 'normal', 'optimizer': 'rmsprop'}\n",
            "0.734411 (0.025165) with: {'batch_size': 10, 'epochs': 100, 'model__init': 'normal', 'optimizer': 'adam'}\n",
            "0.743502 (0.019345) with: {'batch_size': 10, 'epochs': 100, 'model__init': 'uniform', 'optimizer': 'rmsprop'}\n",
            "0.760487 (0.029502) with: {'batch_size': 10, 'epochs': 100, 'model__init': 'uniform', 'optimizer': 'adam'}\n",
            "0.694050 (0.025567) with: {'batch_size': 10, 'epochs': 150, 'model__init': 'glorot_uniform', 'optimizer': 'rmsprop'}\n",
            "0.721331 (0.031670) with: {'batch_size': 10, 'epochs': 150, 'model__init': 'glorot_uniform', 'optimizer': 'adam'}\n",
            "0.744835 (0.022579) with: {'batch_size': 10, 'epochs': 150, 'model__init': 'normal', 'optimizer': 'rmsprop'}\n",
            "0.761777 (0.026321) with: {'batch_size': 10, 'epochs': 150, 'model__init': 'normal', 'optimizer': 'adam'}\n",
            "0.740981 (0.033076) with: {'batch_size': 10, 'epochs': 150, 'model__init': 'uniform', 'optimizer': 'rmsprop'}\n",
            "0.740913 (0.014552) with: {'batch_size': 10, 'epochs': 150, 'model__init': 'uniform', 'optimizer': 'adam'}\n",
            "0.654970 (0.019358) with: {'batch_size': 20, 'epochs': 50, 'model__init': 'glorot_uniform', 'optimizer': 'rmsprop'}\n",
            "0.674476 (0.027972) with: {'batch_size': 20, 'epochs': 50, 'model__init': 'glorot_uniform', 'optimizer': 'adam'}\n",
            "0.699245 (0.015070) with: {'batch_size': 20, 'epochs': 50, 'model__init': 'normal', 'optimizer': 'rmsprop'}\n",
            "0.713573 (0.020119) with: {'batch_size': 20, 'epochs': 50, 'model__init': 'normal', 'optimizer': 'adam'}\n",
            "0.687488 (0.020754) with: {'batch_size': 20, 'epochs': 50, 'model__init': 'uniform', 'optimizer': 'rmsprop'}\n",
            "0.691410 (0.021106) with: {'batch_size': 20, 'epochs': 50, 'model__init': 'uniform', 'optimizer': 'adam'}\n",
            "0.680986 (0.024084) with: {'batch_size': 20, 'epochs': 100, 'model__init': 'glorot_uniform', 'optimizer': 'rmsprop'}\n",
            "0.709694 (0.035610) with: {'batch_size': 20, 'epochs': 100, 'model__init': 'glorot_uniform', 'optimizer': 'adam'}\n",
            "0.727884 (0.015860) with: {'batch_size': 20, 'epochs': 100, 'model__init': 'normal', 'optimizer': 'rmsprop'}\n",
            "0.720100 (0.031703) with: {'batch_size': 20, 'epochs': 100, 'model__init': 'normal', 'optimizer': 'adam'}\n",
            "0.722655 (0.022401) with: {'batch_size': 20, 'epochs': 100, 'model__init': 'uniform', 'optimizer': 'rmsprop'}\n",
            "0.733087 (0.022392) with: {'batch_size': 20, 'epochs': 100, 'model__init': 'uniform', 'optimizer': 'adam'}\n",
            "0.710975 (0.016601) with: {'batch_size': 20, 'epochs': 150, 'model__init': 'glorot_uniform', 'optimizer': 'rmsprop'}\n",
            "0.699211 (0.009777) with: {'batch_size': 20, 'epochs': 150, 'model__init': 'glorot_uniform', 'optimizer': 'adam'}\n",
            "0.731763 (0.016817) with: {'batch_size': 20, 'epochs': 150, 'model__init': 'normal', 'optimizer': 'rmsprop'}\n",
            "0.737000 (0.012947) with: {'batch_size': 20, 'epochs': 150, 'model__init': 'normal', 'optimizer': 'adam'}\n",
            "0.734352 (0.033002) with: {'batch_size': 20, 'epochs': 150, 'model__init': 'uniform', 'optimizer': 'rmsprop'}\n",
            "0.746117 (0.019464) with: {'batch_size': 20, 'epochs': 150, 'model__init': 'uniform', 'optimizer': 'adam'}\n"
          ]
        }
      ]
    },
    {
      "cell_type": "markdown",
      "source": [
        "You can see that the grid search discovered that using a uniform initialization scheme, rmsprop optimizer, 150 epochs, and a batch size of 10 achieved the best cross-validation score of approximately 77% on this problem."
      ],
      "metadata": {
        "id": "zyG7lse7mvmT"
      }
    },
    {
      "cell_type": "markdown",
      "source": [
        "## Congrats you made it 🚀"
      ],
      "metadata": {
        "id": "P4fx1Em7-2rD"
      }
    }
  ]
}