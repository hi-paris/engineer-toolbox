{
 "cells": [
  {
   "cell_type": "markdown",
   "metadata": {},
   "source": [
    "\n",
    "<img src=\"data:image/png;base64,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\" width=400 height=100/>\n",
    "\n",
    "___\n",
    "\n",
    "\n",
    "* <b>Author: Gaëtan Brison - ML Research Engineer - Institut Polytechnique de Paris</b>\n",
    "* <b>Publication Date: 06/23/2022</b>\n",
    "* <b>Goal: The goal of this notebook is to explain in a simple way how to use github api</b>\n",
    "\n",
    "___"
   ]
  },
  {
   "cell_type": "markdown",
   "metadata": {},
   "source": [
    "## I) Github API Documentation "
   ]
  },
  {
   "cell_type": "markdown",
   "metadata": {},
   "source": [
    "[Github API Documentation](https://docs.github.com/en/rest)"
   ]
  },
  {
   "cell_type": "markdown",
   "metadata": {},
   "source": [
    "## II) Import Packages"
   ]
  },
  {
   "cell_type": "code",
   "execution_count": 3,
   "metadata": {},
   "outputs": [],
   "source": [
    "import os\n",
    "import requests\n",
    "from bs4 import BeautifulSoup\n",
    "import re\n",
    "import pandas as pd\n",
    "from typing import List, Any\n",
    "from datetime import datetime\n",
    "from urllib.request import Request, urlopen\n",
    "import time\n",
    "import json\n",
    "pd.set_option('display.max_rows', 500)"
   ]
  },
  {
   "cell_type": "markdown",
   "metadata": {},
   "source": [
    "## III) Functions to collect GitHub API Info without Identification"
   ]
  },
  {
   "cell_type": "code",
   "execution_count": 13,
   "metadata": {},
   "outputs": [],
   "source": [
    "def fetch_github_dev_info (login):\n",
    "    ''' The goal of this function is to collect relevant information based on Github login provided as input\n",
    "    \n",
    "    \n",
    "    Parameters\n",
    "    ----------\n",
    "    \n",
    "    login : string, default=None\n",
    "    Github login of user you want to collect information from\n",
    "    \n",
    "    \n",
    "    Returns\n",
    "    -------\n",
    "    \n",
    "    github_login : string\n",
    "    Github login\n",
    "    \n",
    "    github_id : integer\n",
    "    Id of user in the Github database\n",
    "    \n",
    "    github_name : string\n",
    "    Name of user on Github\n",
    "    \n",
    "    \n",
    "    github_company : string\n",
    "    Company of user on Github\n",
    "    \n",
    "    \n",
    "    github_location : string\n",
    "    Location of user if specified\n",
    "    \n",
    "    \n",
    "    github_email : string\n",
    "    Email associated to Github account\n",
    "    \n",
    "    \n",
    "    github_bio : string\n",
    "    Description done by user \n",
    "    \n",
    "    \n",
    "    github_public_repos : integer\n",
    "    Number of repos made public\n",
    "    \n",
    "    \n",
    "    github_followers : integer\n",
    "    Number of people following user\n",
    "    \n",
    "    \n",
    "    github_following : integer\n",
    "    Number of people followed by user\n",
    "    \n",
    "    github_created_at : string\n",
    "    Date of creation of account\n",
    "    \n",
    "    \n",
    "    github_updated_at : string\n",
    "    Date of last update of account's content\n",
    "    \n",
    "    \n",
    "    '''\n",
    "    \n",
    "    req = Request(f\"https://api.github.com/users/{login}\", headers={'User-Agent': 'Mozilla/5.0'})\n",
    "    webpage = urlopen(req).read()\n",
    "    webpage = webpage.decode('utf-8')\n",
    "    soup = BeautifulSoup(webpage, 'html.parser')\n",
    "\n",
    "    dictionary_user_description = json.loads(str(soup))\n",
    "    print(\" Display full user/dev dictionary\")\n",
    "    print(\" \")\n",
    "    print(dictionary_user_description)\n",
    "    print(\" \")\n",
    "\n",
    "    github_login = dictionary_user_description.get(\"login\")\n",
    "    github_id = dictionary_user_description.get(\"id\")\n",
    "    github_name = dictionary_user_description.get(\"name\")\n",
    "    github_company = dictionary_user_description.get(\"company\")\n",
    "    github_location = dictionary_user_description.get(\"location\")\n",
    "    github_email = dictionary_user_description.get(\"email\")\n",
    "    github_bio = dictionary_user_description.get(\"bio\")\n",
    "    github_public_repos = dictionary_user_description.get(\"public_repos\")\n",
    "    github_followers = dictionary_user_description.get(\"followers\")\n",
    "    github_following = dictionary_user_description.get(\"following\")\n",
    "    github_created_at = dictionary_user_description.get(\"created_at\")\n",
    "    github_updated_at  = dictionary_user_description.get(\"updated_at\")\n",
    "        \n",
    "    return github_login, github_id, github_name, github_company, github_location, github_email, github_bio, github_public_repos, github_followers, github_following, github_created_at, github_updated_at\n",
    "\n"
   ]
  },
  {
   "cell_type": "markdown",
   "metadata": {},
   "source": [
    "## IV - Test Function: fetch_github_dev_info"
   ]
  },
  {
   "cell_type": "code",
   "execution_count": 14,
   "metadata": {},
   "outputs": [
    {
     "name": "stdout",
     "output_type": "stream",
     "text": [
      " Display full user/dev dictionary\n",
      " \n",
      "{'login': 'gaetanbrison', 'id': 59415807, 'node_id': 'MDQ6VXNlcjU5NDE1ODA3', 'avatar_url': 'https://avatars.githubusercontent.com/u/59415807?v=4', 'gravatar_id': '', 'url': 'https://api.github.com/users/gaetanbrison', 'html_url': 'https://github.com/gaetanbrison', 'followers_url': 'https://api.github.com/users/gaetanbrison/followers', 'following_url': 'https://api.github.com/users/gaetanbrison/following{/other_user}', 'gists_url': 'https://api.github.com/users/gaetanbrison/gists{/gist_id}', 'starred_url': 'https://api.github.com/users/gaetanbrison/starred{/owner}{/repo}', 'subscriptions_url': 'https://api.github.com/users/gaetanbrison/subscriptions', 'organizations_url': 'https://api.github.com/users/gaetanbrison/orgs', 'repos_url': 'https://api.github.com/users/gaetanbrison/repos', 'events_url': 'https://api.github.com/users/gaetanbrison/events{/privacy}', 'received_events_url': 'https://api.github.com/users/gaetanbrison/received_events', 'type': 'User', 'site_admin': False, 'name': 'Gaëtan', 'company': 'Institut Polytechnique de Paris', 'blog': 'https://gaetanbrison.github.io/profile/', 'location': None, 'email': None, 'hireable': None, 'bio': None, 'twitter_username': None, 'public_repos': 31, 'public_gists': 0, 'followers': 1, 'following': 2, 'created_at': '2020-01-01T15:31:12Z', 'updated_at': '2022-06-23T12:24:40Z'}\n",
      " \n"
     ]
    },
    {
     "data": {
      "text/plain": [
       "('gaetanbrison',\n",
       " 59415807,\n",
       " 'Gaëtan',\n",
       " 'Institut Polytechnique de Paris',\n",
       " None,\n",
       " None,\n",
       " None,\n",
       " 31,\n",
       " 1,\n",
       " 2,\n",
       " '2020-01-01T15:31:12Z',\n",
       " '2022-06-23T12:24:40Z')"
      ]
     },
     "execution_count": 14,
     "metadata": {},
     "output_type": "execute_result"
    }
   ],
   "source": [
    "login = \"gaetanbrison\" \n",
    "fetch_github_dev_info (login)"
   ]
  },
  {
   "cell_type": "markdown",
   "metadata": {},
   "source": [
    "## Congrats 🎉 You know how to use GitHub API"
   ]
  }
 ],
 "metadata": {
  "kernelspec": {
   "display_name": "Python 3 (ipykernel)",
   "language": "python",
   "name": "python3"
  },
  "language_info": {
   "codemirror_mode": {
    "name": "ipython",
    "version": 3
   },
   "file_extension": ".py",
   "mimetype": "text/x-python",
   "name": "python",
   "nbconvert_exporter": "python",
   "pygments_lexer": "ipython3",
   "version": "3.9.12"
  }
 },
 "nbformat": 4,
 "nbformat_minor": 4
}
