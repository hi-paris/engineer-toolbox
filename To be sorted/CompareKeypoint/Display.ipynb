{
 "cells": [
  {
   "cell_type": "markdown",
   "id": "48522f87",
   "metadata": {},
   "source": [
    "# Display keypoint of three method"
   ]
  },
  {
   "cell_type": "markdown",
   "id": "5f2918e8",
   "metadata": {},
   "source": [
    "### This scripte is used to make visualisation different keypoints for different methode"
   ]
  },
  {
   "cell_type": "markdown",
   "id": "5ac47bdb-3d2a-4049-9662-44f95dc045eb",
   "metadata": {},
   "source": [
    "\n",
    "<img src=\"data:image/png;base64,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\" width=400 height=100/>\n",
    "\n",
    "___\n",
    "\n",
    "\n",
    "* <b>Author: Mazhou HU - ML Research Engineer - Institut Polytechnique de Paris</b>\n",
    "* <b>Publication Date: 09/12/2022</b>\n",
    "* <b>Goal: The goal of this notebook is to explain in a simple way how to use github api</b>\n",
    "\n",
    "___"
   ]
  },
  {
   "cell_type": "markdown",
   "id": "2eec184d",
   "metadata": {},
   "source": [
    "## Import the libraries"
   ]
  },
  {
   "cell_type": "code",
   "execution_count": 1,
   "id": "ba60de5a",
   "metadata": {},
   "outputs": [],
   "source": [
    "import math\n",
    "import pandas as pd\n",
    "import matplotlib\n",
    "import matplotlib.pyplot as plt\n",
    "import numpy as np\n",
    "\n",
    "#from lib.utils.common_draw_skeletons_ok import Human, BodyPart, CocoPart,draw_humans,CocoColors_pairs_vc,CocoColors_pairs_kn,CocoColors_parts_vc,CocoColors_parts_kn,CocoColors_pairs,CocoColors_parts \n",
    "matplotlib.use('TkAgg')\n",
    "import xml.etree.ElementTree as et\n",
    "import json "
   ]
  },
  {
   "cell_type": "code",
   "execution_count": 2,
   "id": "681c8736",
   "metadata": {},
   "outputs": [],
   "source": [
    "XsensPairs = [(1,2), (2,3), (3,4),(4,5), (6,7), (8,9), (9,10), (10,11), (12,13), (13,14), (14,15),(1,16), (16,17), (17,18), (18,19), (1,20), (20,21), (21,22), (22,23)]\n",
    "KinectPairs = [(0,1),(0,12), (0,16), (1,20), (2,3), (2,20), (4,20), (4,5), (5,6), (6,7), (8,20), (8,9), (9,10), (10,11), (12,13), (13,14), (14,15), (16,17), (17,18), (18,19)]\n",
    "OpenposePairs = [(1, 2), (1, 5), (2, 3), (3, 4), (5, 6), (6, 7), (1, 8), (8, 9), (9, 10), (1, 11),\n",
    "    (11, 12), (12, 13), (1, 0), (0, 14), (14, 16), (0, 15), (15, 17), (2, 16), (5, 17)\n",
    "]  \n",
    "dic_Openpose={0:'Head',1:'mShoulder',2:'rShoulder',3:'rElbow',4:'rWrist',5:'lShoulder',6:'lElbow',7:'lWrist',8:'rHip',9:'rKnee',10:'rAnkle',11:'lHip',12:'lKnee',13:'lAnkle',14:'rEye', 15:'lEye',16:'rEar', 17:'lEar'}\n"
   ]
  },
  {
   "cell_type": "markdown",
   "id": "80281d84-46c7-468b-85cc-3c35ce7c9d21",
   "metadata": {},
   "source": [
    "## Creat the function"
   ]
  },
  {
   "cell_type": "markdown",
   "id": "5ceb6f47",
   "metadata": {},
   "source": [
    "### Function for display kinect detecting file in 3D"
   ]
  },
  {
   "cell_type": "code",
   "execution_count": 3,
   "id": "a8ce6d95",
   "metadata": {},
   "outputs": [],
   "source": [
    "def display_kinect(path_txt, n_frame):\n",
    "    '''\n",
    "        display_skeleton is used to display display keypoints of n_frame frame of kinect detecting file in 3D.\n",
    "        \n",
    "        Parameters:\n",
    "        path_txt: String - adresse of file skeleton.txt allowed to load\n",
    "        n_frame: Int - number of frame to find\n",
    "\n",
    "        Return: \n",
    "        None\n",
    "    \n",
    "    '''\n",
    "    #Open skeleton.txt file   \n",
    "    data = pd.read_csv(path_txt,header=None)\n",
    "\n",
    "    #Store for coordinates\n",
    "    x=[]\n",
    "    y=[]\n",
    "    z=[]\n",
    "\n",
    "    #Store for rotation \n",
    "    x_rot=[]\n",
    "    y_rot=[]\n",
    "    z_rot=[]\n",
    "    w_rot=[]\n",
    "    \n",
    "    #Store for names of keypoints\n",
    "    keypoint=[]\n",
    "\n",
    "    #Store the names of keypoints and the corresponding  coordinates \n",
    "    n=int((232-7)/9)\n",
    "    for i in range (n):\n",
    "        x.append(float(data[9*i+9][n_frame+1]))\n",
    "        y.append(float(data[9*i+10][n_frame+1]))\n",
    "        z.append(float(data[9*i+11][n_frame+1]))\n",
    "        keypoint.append(data[9*i+7][n_frame+1])\n",
    "        x_rot.append(float(data[9*i+13][n_frame+1]))\n",
    "        y_rot.append(float(data[9*i+14][n_frame+1]))\n",
    "        z_rot.append(float(data[9*i+15][n_frame+1]))\n",
    "        w_rot.append(float(data[9*i+12][n_frame+1]))\n",
    "\n",
    "    #Verify the coordonates \n",
    "    # print('The values of X:', max(x) , min(x), x)\n",
    "    # print('The values of y:', max(y) , min(y), y)\n",
    "    # print('The values of z:', max(z) , min(z), z)\n",
    "\n",
    "    ''' plot the figure '''\n",
    "\n",
    "    #Set parameters for figure \n",
    "    fig1 = plt.figure(figsize=(12,6))\n",
    "    fig1.subplots_adjust(bottom=-0.05,top=1.0)\n",
    "    ax = fig1.add_subplot( projection='3d')\n",
    "    ax.scatter3D(x, y, z, color=(0,1,0) ,s=10 ,marker='o')\n",
    "    ax.set_facecolor('xkcd:white')\n",
    "\n",
    "    #Set parameters for trois axes\n",
    "    ax.set_xlim3d(min(x) - 0.1, max(x) + 0.1)\n",
    "    ax.set_ylim3d(min(y) - 0.1, max(y) + 0.1)\n",
    "    ax.set_zlim3d(min(z) - 0.1, max(z) + 0.1)\n",
    "    ax.set_xlabel('X axis')\n",
    "    ax.set_ylabel('Y axis')\n",
    "    ax.set_zlabel('Z axis')\n",
    "    \n",
    "    #Draw line\n",
    "    for pair in KinectPairs:    \n",
    "        X_pair = [x[pair[0]],x[pair[1]]]\n",
    "        Y_pair = [y[pair[0]],y[pair[1]]]\n",
    "        Z_pair = [z[pair[0]],z[pair[1]]]\n",
    "        ax.plot(X_pair, Y_pair, Z_pair, color='orange', linewidth=1)\n",
    "\n",
    "    #Control the angle of view but it doesn't work well for our probleme\n",
    "    #res = euler_from_quaternion(x_rot[0], y_rot[0], z_rot[0], w_rot[0])\n",
    "    #ax.view_init(res[1], res[2])\n",
    "    #ax.view_init()\n",
    "\n",
    "\n",
    "    #Draw the name of keypoint\n",
    "    for k, label in enumerate(keypoint):\n",
    "        ax.text(x[k], y[k],z[k],label,fontsize=7)\n",
    "    \n",
    "    #plt.gcf().set_size_inches(11.7,8.3)\n",
    "    plt.show()\n",
    "    return print('---End processus---')"
   ]
  },
  {
   "cell_type": "markdown",
   "id": "a896abb8",
   "metadata": {},
   "source": [
    "### Function for display Xsens detecting file in 3D"
   ]
  },
  {
   "cell_type": "code",
   "execution_count": 4,
   "id": "84b60ffc",
   "metadata": {},
   "outputs": [],
   "source": [
    "def display_Xsens(path_Xsens, n_frame):\n",
    "    '''\n",
    "        display_Xsens si used to display keypoints of the n_frame frame in Xsens detecting file in 3D\n",
    "        \n",
    "        Parameters:\n",
    "        path_Sens: String - adresse of Xsens file allowed to load\n",
    "        n_frame: Int - number of frame to find\n",
    "\n",
    "        Return: \n",
    "        None\n",
    "    \n",
    "    '''\n",
    "\n",
    "    \n",
    "    #Open Xsens file \n",
    "    xtree = et.parse(path_Xsens)\n",
    "    xroot = xtree.getroot()\n",
    "    print('Numbre of frame for data of skeleton: ' + xroot[2][2][-1].attrib['index'])\n",
    "    \n",
    "    #Creat the store for coordinate \n",
    "    x=[]\n",
    "    y=[]\n",
    "    z=[]\n",
    "\n",
    "    #Creat the store for name of  keypoint  \n",
    "    keypoint=[]\n",
    "\n",
    "    #Store the coordinates for each axes\n",
    "    pos = xroot[2][2][n_frame][1].text.split(' ')\n",
    "    for m in range (23):\n",
    "        x.append(float(list(pos)[m*3]))\n",
    "        y.append(float(list(pos)[m*3+1]))\n",
    "        z.append(float(list(pos)[m*3+2]))\n",
    "    \n",
    "    #Store the names of keypoints \n",
    "    for k in xroot[2][1]:\n",
    "        keypoint.append(k.attrib['label'])\n",
    "\n",
    "    # Verify the cordinates\n",
    "    # print('The values of X:', max(x) , min(x), x)\n",
    "    # print('The values of y:', max(y) , min(y), y)\n",
    "    # print('The values of z:', max(z) , min(z), z)\n",
    "\n",
    "    ''' plot the figure '''\n",
    "\n",
    "    #Set parameters for figure \n",
    "    fig2 = plt.figure(figsize=(12,6))\n",
    "    fig2.subplots_adjust(bottom=-0.05,top=1.0)\n",
    "    ax = fig2.add_subplot( projection='3d')\n",
    "    ax.scatter3D(x, y, z, color=(0,1,0) ,s=10 ,marker='o')\n",
    "    ax.set_facecolor('xkcd:white')\n",
    "\n",
    "    #Set parameters for trois axes\n",
    "    ax.set_xlim3d(min(x) - 0.1, max(x) + 0.1)\n",
    "    ax.set_ylim3d(min(y) - 0.1, max(y) + 0.1)\n",
    "    ax.set_zlim3d(min(z) - 0.1, max(z) + 0.1)\n",
    "    ax.set_xlabel('X axis')\n",
    "    ax.set_ylabel('Y axis')\n",
    "    ax.set_zlabel('Z axis')\n",
    "\n",
    "    #Draw line\n",
    "    for pair in XsensPairs:    \n",
    "        X_pair = [x[pair[0]-1],x[pair[1]-1]]\n",
    "        Y_pair = [y[pair[0]-1],y[pair[1]-1]]\n",
    "        Z_pair = [z[pair[0]-1],z[pair[1]-1]]\n",
    "        ax.plot(X_pair, Y_pair, Z_pair, color='orange', linewidth=1)\t\n",
    "\n",
    "    #Draw the name of keypoint\n",
    "    for k, label in enumerate(keypoint):\n",
    "        ax.text(x[k], y[k],z[k],label,fontsize=7)\n",
    "    \n",
    "    plt.show()\n",
    "    return print('---End processus---')"
   ]
  },
  {
   "cell_type": "markdown",
   "id": "223acee7",
   "metadata": {},
   "source": [
    "### Function for display openpose detecting file."
   ]
  },
  {
   "cell_type": "code",
   "execution_count": 5,
   "id": "53f9fe03",
   "metadata": {},
   "outputs": [],
   "source": [
    "def display_json3d(path_json, n_frame):\n",
    "    '''\n",
    "        display_json si used to display the keypoint of n_frame frame of openpose detecting file in 3D\n",
    "        \n",
    "        Parameters:\n",
    "        path_txt: String - adresse of json file allowed to load\n",
    "        n_frame: Int - number of frame to find\n",
    "        \n",
    "        Return :\n",
    "        None\n",
    "        \n",
    "        Attention: You have to find the frame with the keypoints detected, if the frame doesn't have the keypoints, \n",
    "        the function will not work. For example: frame 1-6 doesn't work\n",
    "    '''\n",
    "    #Open json file \n",
    "    f_json = open(path_json)\n",
    "    # returns JSON object as a dictionary\n",
    "    data_json=json.load(f_json)\n",
    "\n",
    "    #Store for cordinates\n",
    "    x=[]\n",
    "    y=[]\n",
    "    #Store for keypoints' names\n",
    "    keypoint=[]\n",
    "\n",
    "    #Save the keypoints' names and their cordinates\n",
    "    pos = data_json['positions'][str(n_frame) + '.0' ]\n",
    "    #print(pos)\n",
    "    for i in pos:\n",
    "        print(i)\n",
    "        x.append(float(pos[i][0]))\n",
    "        y.append(float(pos[i][1]))\n",
    "        keypoint.append(i)\n",
    "    z = np.zeros(len(x))\n",
    "    #Plot the keypoints\n",
    "    #Set parameters for figure \n",
    "    fig3 = plt.figure(figsize=(12,6))\n",
    "    fig3.subplots_adjust(bottom=-0.05,top=1.0)\n",
    "    ax = fig3.add_subplot( projection='3d')\n",
    "    ax.scatter3D(x, y, z, color=(0,1,0) ,s=10 ,marker='o')\n",
    "    ax.set_facecolor('xkcd:white')\n",
    "\n",
    "    #Set parameters for trois axes\n",
    "    ax.set_xlim3d(min(x) - 0.03, max(x) + 0.1)\n",
    "    ax.set_ylim3d(min(y) - 0.03, max(y) + 0.1)\n",
    "    ax.set_zlim3d(min(z) - 0.03, max(z) + 0.1)\n",
    "    ax.set_xlabel('X axis')\n",
    "    ax.set_ylabel('Y axis')\n",
    "    ax.set_zlabel('Z axis')\n",
    "\n",
    "    \n",
    "    #Draw line\n",
    "    for pair in OpenposePairs:\n",
    "        #print('*****')\n",
    "        if dic_Openpose[pair[0]] in keypoint and dic_Openpose[pair[1]] in keypoint:\n",
    "            #print(keypoint.index(dic_Openpose[pair[0]]))\n",
    "            #print(keypoint.index(dic_Openpose[pair[1]]))\n",
    "            index_1 = keypoint.index(dic_Openpose[pair[0]])\n",
    "            index_2 = keypoint.index(dic_Openpose[pair[1]])\n",
    "            X_pair = [x[index_1],x[index_2]]\n",
    "            Y_pair = [y[index_1],y[index_2]]\n",
    "            Z_pair = [z[index_1],z[index_2]]\n",
    "            ax.plot(X_pair,Y_pair,Z_pair,color='orange',linewidth=1)\n",
    "        else:\n",
    "            print (\"pair doesn't be detected\") \n",
    "        \n",
    "    #Draw the name of keypoint\n",
    "    for k, label in enumerate(keypoint):\n",
    "        ax.text(x[k], y[k],z[k],label,fontsize=7)\n",
    "    \n",
    "    plt.show()\n",
    "    return print('---End processus---')"
   ]
  },
  {
   "cell_type": "markdown",
   "id": "d8b82ebd-0641-4ec6-b6e7-03314abef75b",
   "metadata": {},
   "source": [
    "# The test for display functions "
   ]
  },
  {
   "cell_type": "markdown",
   "id": "a6ac7cbf-8209-42cc-a41d-e171c7a6aa68",
   "metadata": {},
   "source": [
    "### Display the kinect detecting file "
   ]
  },
  {
   "cell_type": "code",
   "execution_count": 6,
   "id": "62e6b088",
   "metadata": {},
   "outputs": [
    {
     "name": "stdout",
     "output_type": "stream",
     "text": [
      "---End processus---\n"
     ]
    }
   ],
   "source": [
    "########## S2_Exp2_bis##################\n",
    "######For kinect method#######\n",
    "#display the first frame\n",
    "display_kinect('./S2_Ep2_Kienct_Skeleton.txt',0)\n",
    "#display the last frame\n",
    "#display_kinect('./S2_Ep2_Kinect_Skeleton.txt',735)\n"
   ]
  },
  {
   "cell_type": "markdown",
   "id": "3e2e8585-f71b-4c2c-89f2-adb50b96d59d",
   "metadata": {},
   "source": [
    "### The display the Xsens detecting file "
   ]
  },
  {
   "cell_type": "code",
   "execution_count": 50,
   "id": "7fccf4ab-496f-4957-b790-1376ec60e059",
   "metadata": {},
   "outputs": [
    {
     "name": "stdout",
     "output_type": "stream",
     "text": [
      "Numbre of frame for data of skeleton: 24039\n",
      "---End processus---\n"
     ]
    }
   ],
   "source": [
    "#####For Xsens method########\n",
    "display_Xsens('./S2_Ep2-002.mvnx',100)\n",
    "#display_Xsens('./S2_Ep2-002.mvnx',24023)\n"
   ]
  },
  {
   "cell_type": "markdown",
   "id": "282fcdb4-aef9-4e63-9b57-2895fcef1435",
   "metadata": {},
   "source": [
    "### Display the openpose file\n",
    "\n",
    "Attention: You have to find the frame with the keypoints detected, if the frame doesn't have the keypoints, \n",
    "the function will not work. For example: frame 1-6 doesn't work. This situation is just for openpose."
   ]
  },
  {
   "cell_type": "code",
   "execution_count": 47,
   "id": "9595a6b2-b461-429d-8c97-964fa0d3b241",
   "metadata": {},
   "outputs": [
    {
     "name": "stdout",
     "output_type": "stream",
     "text": [
      "mShoulder\n",
      "lShoulder\n",
      "rHip\n",
      "rKnee\n",
      "lHip\n",
      "pair doesn't be detected\n",
      "pair doesn't be detected\n",
      "pair doesn't be detected\n",
      "pair doesn't be detected\n",
      "pair doesn't be detected\n",
      "pair doesn't be detected\n",
      "pair doesn't be detected\n",
      "pair doesn't be detected\n",
      "pair doesn't be detected\n",
      "pair doesn't be detected\n",
      "pair doesn't be detected\n",
      "pair doesn't be detected\n",
      "pair doesn't be detected\n",
      "pair doesn't be detected\n",
      "pair doesn't be detected\n",
      "---End processus---\n"
     ]
    }
   ],
   "source": [
    "#For OpenPose method\n",
    "display_json3d('./s2_Ep2_Video_RGB_openpose_json.json',129)\n",
    "#display_json2d('./s2_Ep2_Video_RGB_openpose_json.json',80)\n"
   ]
  },
  {
   "cell_type": "code",
   "execution_count": null,
   "id": "22cb6dc2-c24d-4585-b88d-03bfd0f5cce7",
   "metadata": {},
   "outputs": [],
   "source": []
  }
 ],
 "metadata": {
  "kernelspec": {
   "display_name": "Python 3 (ipykernel)",
   "language": "python",
   "name": "python3"
  },
  "language_info": {
   "codemirror_mode": {
    "name": "ipython",
    "version": 3
   },
   "file_extension": ".py",
   "mimetype": "text/x-python",
   "name": "python",
   "nbconvert_exporter": "python",
   "pygments_lexer": "ipython3",
   "version": "3.9.12"
  }
 },
 "nbformat": 4,
 "nbformat_minor": 5
}
